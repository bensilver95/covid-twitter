{
 "cells": [
  {
   "cell_type": "code",
   "execution_count": 1,
   "metadata": {},
   "outputs": [],
   "source": [
    "import pandas as pd\n",
    "import numpy as np\n",
    "import nltk\n",
    "from nltk.corpus import brown\n",
    "import glob\n",
    "import os.path\n",
    "import time\n",
    "import subprocess"
   ]
  },
  {
   "cell_type": "code",
   "execution_count": null,
   "metadata": {},
   "outputs": [],
   "source": [
    "## First thing that needs to be done is hydrate tweets. I am doing this via the hydrate_edit.py script\n",
    "# Actually running on pythonanywhere then copying jsons over"
   ]
  },
  {
   "cell_type": "code",
   "execution_count": 15,
   "metadata": {},
   "outputs": [
    {
     "data": {
      "text/plain": [
       "<matplotlib.collections.PathCollection at 0x11f30ad90>"
      ]
     },
     "execution_count": 15,
     "metadata": {},
     "output_type": "execute_result"
    },
    {
     "data": {
      "image/png": "[encoded data removed]",
      "text/plain": [
       "<Figure size 432x288 with 1 Axes>"
      ]
     },
     "metadata": {
      "needs_background": "light"
     },
     "output_type": "display_data"
    }
   ],
   "source": [
    "# Confirm that size of files make sense and that I didn't mess up\n",
    "stats = pd.read_csv('panacealab-data/v6/full_dataset-clean-statistics.tsv', sep = '\\t')\n",
    "number = stats['tweet_id'][1:-1] # change this maybe\n",
    "\n",
    "filelist = glob.glob('panacealab-data/hydrated/all_english/*gz')\n",
    "file_sizes = []\n",
    "for file in filelist:\n",
    "    file_sizes.append(os.path.getsize(file))\n",
    "file_sizes = np.divide(file_sizes,1000000)  \n",
    "\n",
    "plt.scatter(number, file_sizes)"
   ]
  },
  {
   "cell_type": "code",
   "execution_count": 94,
   "metadata": {},
   "outputs": [
    {
     "name": "stdout",
     "output_type": "stream",
     "text": [
      "reading in existing file\n",
      "reading tweets from 2020-01-27.jsonl.gz\n",
      "saving all tweets to file\n",
      "filtering out users with no location set\n",
      "filtering out users outside of the US\n"
     ]
    }
   ],
   "source": [
    "### Make a massive csv file of all tweets, and only take relevant info\n",
    "## Run on server\n",
    "\n",
    "filedir = 'panacealab-data/hydrated/all_english/'\n",
    "filelist = sorted(glob.glob(filedir + '*gz'))\n",
    "\n",
    "try: # load file if already exists so can easily add more\n",
    "    tweets = pd.read_csv('big_csv_files/all_tweets.csv')\n",
    "    print('reading in existing file')\n",
    "    start_file = tweets['created_at'][len(tweets) - 1].split(' ')[0] + '.jsonl.gz'\n",
    "    filelist = filelist[filelist.index(filedir + start_file) + 1:]\n",
    "except:\n",
    "    tweets = pd.DataFrame(columns = ['created_at','id','full_text','retweet_count','favorite_count','screen_name','location','followers_count'])\n",
    "    \n",
    "# pull relevant information, save to df\n",
    "for file in filelist[0:1]:\n",
    "    json_name = file.split('english/')[1]\n",
    "    print('reading tweets from ' + json_name)\n",
    "    tweets_json = pd.read_json(file, lines = True)\n",
    "    tweets_relevant = tweets_json[['created_at','id','full_text','retweet_count','favorite_count']]\n",
    "    tweets_relevant = pd.concat([tweets_relevant, pd.DataFrame(tweets_json['user'].to_list())[['screen_name','location','followers_count']]], axis = 1)\n",
    "    tweets = tweets.append(tweets_relevant, ignore_index = True)    \n",
    "tweets = tweets.drop_duplicates(subset = 'full_text', keep = False) # remove duplicates\n",
    "print('saving all tweets to file')\n",
    "tweets.to_csv('big_csv_files/all_tweets.csv', index = False)\n",
    "\n",
    "# Only save tweets where the user has a location listed\n",
    "print('filtering out users with no location set')\n",
    "tweets_location = tweets[tweets['location'] != ''].reset_index(drop = True)\n",
    "tweets_location.to_csv('big_csv_files/location_tweets.csv', index = False)\n",
    "\n",
    "# Only save tweets where the location is in the USA\n",
    "# NOTE: For now, just doing this with states so analyses are easier\n",
    "places_nocase = pd.read_excel('us_places.xlsx',sheet_name = 'no_case')['places'].to_list()\n",
    "places_case = pd.read_excel('us_places.xlsx',sheet_name = 'case')['places'].to_list()\n",
    "places = pd.read_excel('us_places.xlsx', sheet_name = 'all')\n",
    "\n",
    "print('filtering out users outside of the US')\n",
    "tweets_usa = tweets_location[tweets_location['location'].str.contains('|'.join(places_nocase),case = False)|tweets_location['location'].str.contains('|'.join(places_case))].reset_index(drop = True)\n",
    "\n",
    "state = tweets_usa['id'].where(tweets_usa['id'] == 1)\n",
    "for i in range(len(places)):\n",
    "    if len(places.iloc[i,0]) == 2:\n",
    "        temp = tweets_usa['location'].where(tweets_usa['location'].str.contains(places.iloc[i,0]))\n",
    "    else:\n",
    "        temp = tweets_usa['location'].where(tweets_usa['location'].str.contains(places.iloc[i,0], case = False))\n",
    "    temp[~temp.isna()] = places.iloc[i,1]\n",
    "    state = state.combine_first(temp)\n",
    "tweets_usa['state'] = state\n",
    "tweets_usa.to_csv('big_csv_files/usa_tweets.csv', index = False)\n"
   ]
  },
  {
   "cell_type": "code",
   "execution_count": 12,
   "metadata": {},
   "outputs": [
    {
     "name": "stdout",
     "output_type": "stream",
     "text": [
      "reading tweets from moved_to_server/2020-01-04.jsonl.gz\n",
      "reading tweets from moved_to_server/2020-01-06.jsonl.gz\n",
      "reading tweets from moved_to_server/2020-01-08.jsonl.gz\n",
      "reading tweets from moved_to_server/2020-01-09.jsonl.gz\n",
      "reading tweets from moved_to_server/2020-01-10.jsonl.gz\n",
      "reading tweets from moved_to_server/2020-01-11.jsonl.gz\n",
      "reading tweets from moved_to_server/2020-01-12.jsonl.gz\n",
      "reading tweets from moved_to_server/2020-01-13.jsonl.gz\n",
      "reading tweets from moved_to_server/2020-01-17.jsonl.gz\n",
      "reading tweets from moved_to_server/2020-01-18.jsonl.gz\n",
      "reading tweets from moved_to_server/2020-01-19.jsonl.gz\n",
      "reading tweets from moved_to_server/2020-01-20.jsonl.gz\n",
      "reading tweets from moved_to_server/2020-01-21.jsonl.gz\n",
      "reading tweets from moved_to_server/2020-01-22.jsonl.gz\n"
     ]
    },
    {
     "name": "stderr",
     "output_type": "stream",
     "text": [
      "\r",
      "  0%|          | 0/1051 [00:00<?, ?it/s]"
     ]
    },
    {
     "name": "stdout",
     "output_type": "stream",
     "text": [
      "reading tweets from moved_to_server/2020-01-23.jsonl.gz\n"
     ]
    },
    {
     "name": "stderr",
     "output_type": "stream",
     "text": [
      "100%|██████████| 1051/1051 [00:00<00:00, 2171.07it/s]\n"
     ]
    },
    {
     "name": "stdout",
     "output_type": "stream",
     "text": [
      "manually filtering out users outside of the US so geocoding works better\n"
     ]
    }
   ],
   "source": [
    "import tqdm\n",
    "\n",
    "filedir = 'panacealab-data/hydrated/all_english/moved_to_server/'\n",
    "filelist = sorted(glob.glob(filedir + '*gz'))\n",
    "\n",
    "tweets = pd.DataFrame(columns = ['created_at','id','full_text','retweet_count','favorite_count','source','entities',\n",
    "    'screen_name','id','location','followers_count','created_at','statuses_count'])\n",
    "    \n",
    "# pull relevant information, save to df\n",
    "for file in filelist[0:15]:\n",
    "    json_name = file.split('english/')[1]\n",
    "    print('reading tweets from ' + json_name)\n",
    "    tweets_json = pd.read_json(file, lines = True)\n",
    "    tweets_relevant = tweets_json[['created_at','id','full_text','retweet_count','favorite_count','source','entities']]\n",
    "    tweets_relevant = pd.concat([tweets_relevant, pd.DataFrame(tweets_json['user'].to_list())[['screen_name','id','location',\n",
    "        'followers_count','created_at','statuses_count']]], axis = 1)\n",
    "    tweets = tweets.append(tweets_relevant, ignore_index = True)    \n",
    "tweets.columns.values[11] = 'user_created_at' # hard coded indexes!\n",
    "tweets.columns.values[8] = 'user_id'\n",
    "tweets = tweets.drop_duplicates(subset = 'full_text', keep = False) # remove duplicates\n",
    "tweets = tweets[tweets['full_text'].str.contains('coronavirus|covid|corona virus', case = False)] #only coronavirus, corona virus or covid\n",
    "tweets = tweets[~tweets['favorite_count'].isna()].reset_index(drop = True) # get rid of junk\n",
    "\n",
    "tqdm.tqdm.pandas()\n",
    "hydration_date = tweets['created_at'].progress_apply(filetime_conv) # this could be sped up I think\n",
    "tweets['user_created_at'] = pd.to_datetime(tweets['user_created_at'])\n",
    "tweets['daily_tweet_rate'] = tweets['statuses_count']/(hydration_date.dt.date - tweets['user_created_at'].dt.date).dt.days\n",
    "\n",
    "tweets_location = tweets[tweets['location'] != ''].reset_index(drop = True)\n",
    "\n",
    "# Only save tweets where the location is in the USA\n",
    "places_nocase = pd.read_excel('old/us_places.xlsx',sheet_name = 'no_case')['places'].to_list()\n",
    "places_case = pd.read_excel('old/us_places.xlsx',sheet_name = 'case')['places'].to_list()\n",
    "places = pd.read_excel('old/us_places.xlsx', sheet_name = 'all')\n",
    "\n",
    "print('manually filtering out users outside of the US so geocoding works better')\n",
    "tweets_usa = tweets_location[tweets_location['location'].str.contains('|'.join(places_nocase),case = False)|tweets_location['location'].str.contains('|'.join(places_case))].reset_index(drop = True)\n"
   ]
  },
  {
   "cell_type": "code",
   "execution_count": 122,
   "metadata": {},
   "outputs": [],
   "source": [
    "def url_filter(url):\n",
    "    if not url:\n",
    "        return 1\n",
    "    elif url[0]['display_url'].startswith('twitter.com'):\n",
    "        return 1\n",
    "    else:\n",
    "        return 0"
   ]
  },
  {
   "cell_type": "code",
   "execution_count": 9,
   "metadata": {},
   "outputs": [],
   "source": [
    "top_users = tweets['user_id'].value_counts()[0:20].index.to_list()\n",
    "tweets_top_users = tweets[tweets['user_id'].isin(top_users)].reset_index(drop = True)\n",
    "\n",
    "top_users_df = tweets_top_users[['screen_name','user_id','location','followers_count','statuses_count']]\n",
    "top_users_df = top_users_df.drop_duplicates(subset = 'screen_name').reset_index(drop = True)\n",
    "users_list_got = top_users_df[['screen_name']]\n",
    "users_list_got.to_csv('big_csv_files/users_list_got.csv',index = False, header = False)\n",
    "\n",
    "args = ['GetOldTweets3','--usernames-from-file', 'big_csv_files/users_list_got.csv','--maxtweets','1000','--output','big_csv_files/got_tweets.csv']\n",
    "t = subprocess.Popen(args)\n",
    "t.wait()\n",
    "\n",
    "got_tweets = pd.read_csv('big_csv_files/got_tweets.csv')\n",
    "got_tweets = got_tweets.drop(columns = ['permalink','geo','mentions','hashtags','to'])\n",
    "got_tweets = got_tweets.rename(columns = {'username':'screen_name'})"
   ]
  },
  {
   "cell_type": "code",
   "execution_count": 9,
   "metadata": {},
   "outputs": [],
   "source": [
    "def filetime_conv(created_at):\n",
    "    outputdir = 'panacealab-data/hydrated/all_english/moved_to_server/'\n",
    "    file_for_conv = outputdir + str(created_at).split(' ')[0] + '.jsonl.gz'\n",
    "    timect = pd.to_datetime(time.ctime(os.path.getctime(file_for_conv)))\n",
    "    return timect"
   ]
  },
  {
   "cell_type": "code",
   "execution_count": null,
   "metadata": {},
   "outputs": [],
   "source": [
    "# Run through jsons, extract tweets only if they have specific key words?"
   ]
  },
  {
   "cell_type": "code",
   "execution_count": null,
   "metadata": {},
   "outputs": [],
   "source": [
    "# Should I try to employ a model that only keeps tweets that have any sort of sentiment?\n",
    "# For now, no, but eventually, hopefully. Will make results stronger most likely"
   ]
  },
  {
   "cell_type": "code",
   "execution_count": null,
   "metadata": {},
   "outputs": [],
   "source": [
    "# preprocessing. Remove URLs, symbols, stop words, etc.\n",
    "\n",
    "tweets = pd.read_csv('big_csv_files/usa_tweets.csv')\n",
    "\n",
    "# remove duplicate tweets\n",
    "tweets = tweets.drop_duplicates(subset = 'full_text', keep = False)\n",
    "\n",
    "# get rid of links and emojis?? For now, no\n"
   ]
  },
  {
   "cell_type": "code",
   "execution_count": 19,
   "metadata": {},
   "outputs": [],
   "source": [
    "#### geocoding!\n",
    "import geopandas\n",
    "import geopy\n",
    "\n",
    "locator = geopy.geocoders.Nominatim(user_agent='myGeocoder')\n",
    "location = locator.geocode('Boston, MA')"
   ]
  },
  {
   "cell_type": "code",
   "execution_count": 38,
   "metadata": {},
   "outputs": [
    {
     "ename": "AttributeError",
     "evalue": "'list' object has no attribute 'latlng'",
     "output_type": "error",
     "traceback": [
      "\u001b[0;31m---------------------------------------------------------------------------\u001b[0m",
      "\u001b[0;31mAttributeError\u001b[0m                            Traceback (most recent call last)",
      "\u001b[0;32m<ipython-input-38-f1aaa4b69e8b>\u001b[0m in \u001b[0;36m<module>\u001b[0;34m\u001b[0m\n\u001b[1;32m      3\u001b[0m \u001b[0;34m\u001b[0m\u001b[0m\n\u001b[1;32m      4\u001b[0m \u001b[0;31m#Sample latitude and longitudes\u001b[0m\u001b[0;34m\u001b[0m\u001b[0;34m\u001b[0m\u001b[0;34m\u001b[0m\u001b[0m\n\u001b[0;32m----> 5\u001b[0;31m \u001b[0mlat\u001b[0m \u001b[0;34m=\u001b[0m \u001b[0mg\u001b[0m\u001b[0;34m[\u001b[0m\u001b[0;36m2\u001b[0m\u001b[0;34m]\u001b[0m\u001b[0;34m.\u001b[0m\u001b[0mlatlng\u001b[0m\u001b[0;34m[\u001b[0m\u001b[0;36m0\u001b[0m\u001b[0;34m]\u001b[0m\u001b[0;34m\u001b[0m\u001b[0;34m\u001b[0m\u001b[0m\n\u001b[0m\u001b[1;32m      6\u001b[0m \u001b[0mlon\u001b[0m \u001b[0;34m=\u001b[0m \u001b[0mg\u001b[0m\u001b[0;34m[\u001b[0m\u001b[0;36m2\u001b[0m\u001b[0;34m]\u001b[0m\u001b[0;34m.\u001b[0m\u001b[0mlatlng\u001b[0m\u001b[0;34m[\u001b[0m\u001b[0;36m1\u001b[0m\u001b[0;34m]\u001b[0m\u001b[0;34m\u001b[0m\u001b[0;34m\u001b[0m\u001b[0m\n\u001b[1;32m      7\u001b[0m \u001b[0;34m\u001b[0m\u001b[0m\n",
      "\u001b[0;31mAttributeError\u001b[0m: 'list' object has no attribute 'latlng'"
     ]
    }
   ],
   "source": [
    "import requests\n",
    "import urllib\n",
    "\n",
    "#Sample latitude and longitudes\n",
    "lat = g[2].latlng[0]\n",
    "lon = g[2].latlng[1]\n",
    "\n",
    "#Encode parameters \n",
    "params = urllib.parse.urlencode({'latitude': lat, 'longitude':lon, 'format':'json'})\n",
    "#Contruct request URL\n",
    "url = 'https://geo.fcc.gov/api/census/block/find?' + params\n",
    "\n",
    "#Get response from API\n",
    "response = requests.get(url)\n",
    "\n",
    "#Parse json in response\n",
    "data = response.json()\n",
    "\n",
    "#Print FIPS code\n",
    "print(data['County']['FIPS'])"
   ]
  },
  {
   "cell_type": "code",
   "execution_count": 2,
   "metadata": {},
   "outputs": [],
   "source": [
    "import tqdm\n",
    "import geocoder"
   ]
  },
  {
   "cell_type": "code",
   "execution_count": 36,
   "metadata": {},
   "outputs": [],
   "source": [
    "# feed in list of coordinates\n",
    "def coord_to_fips(x):\n",
    "    params = urllib.parse.urlencode({'latitude': x[0], 'longitude':x[1], 'format':'json'})\n",
    "    url = 'https://geo.fcc.gov/api/census/block/find?' + params\n",
    "    response = requests.get(url)\n",
    "    data = response.json()\n",
    "    return data['County']['FIPS']"
   ]
  },
  {
   "cell_type": "code",
   "execution_count": 40,
   "metadata": {},
   "outputs": [
    {
     "name": "stderr",
     "output_type": "stream",
     "text": [
      " 85% |#############################################################           |\r"
     ]
    },
    {
     "ename": "TypeError",
     "evalue": "'NoneType' object is not subscriptable",
     "output_type": "error",
     "traceback": [
      "\u001b[0;31m---------------------------------------------------------------------------\u001b[0m",
      "\u001b[0;31mTypeError\u001b[0m                                 Traceback (most recent call last)",
      "\u001b[0;32m<ipython-input-40-b8e8ed40d4a0>\u001b[0m in \u001b[0;36m<module>\u001b[0;34m\u001b[0m\n\u001b[1;32m      1\u001b[0m \u001b[0;32mfrom\u001b[0m \u001b[0mprogressbar\u001b[0m \u001b[0;32mimport\u001b[0m \u001b[0mProgressBar\u001b[0m\u001b[0;34m\u001b[0m\u001b[0;34m\u001b[0m\u001b[0m\n\u001b[1;32m      2\u001b[0m \u001b[0mpbar\u001b[0m \u001b[0;34m=\u001b[0m \u001b[0mProgressBar\u001b[0m\u001b[0;34m(\u001b[0m\u001b[0;34m)\u001b[0m\u001b[0;34m\u001b[0m\u001b[0;34m\u001b[0m\u001b[0m\n\u001b[0;32m----> 3\u001b[0;31m \u001b[0mg_fips\u001b[0m \u001b[0;34m=\u001b[0m \u001b[0;34m[\u001b[0m\u001b[0mcoord_to_fips\u001b[0m\u001b[0;34m(\u001b[0m\u001b[0mcoords\u001b[0m\u001b[0;34m)\u001b[0m \u001b[0;32mfor\u001b[0m \u001b[0mcoords\u001b[0m \u001b[0;32min\u001b[0m \u001b[0mpbar\u001b[0m\u001b[0;34m(\u001b[0m\u001b[0mg\u001b[0m\u001b[0;34m)\u001b[0m\u001b[0;34m]\u001b[0m\u001b[0;34m\u001b[0m\u001b[0;34m\u001b[0m\u001b[0m\n\u001b[0m",
      "\u001b[0;32m<ipython-input-40-b8e8ed40d4a0>\u001b[0m in \u001b[0;36m<listcomp>\u001b[0;34m(.0)\u001b[0m\n\u001b[1;32m      1\u001b[0m \u001b[0;32mfrom\u001b[0m \u001b[0mprogressbar\u001b[0m \u001b[0;32mimport\u001b[0m \u001b[0mProgressBar\u001b[0m\u001b[0;34m\u001b[0m\u001b[0;34m\u001b[0m\u001b[0m\n\u001b[1;32m      2\u001b[0m \u001b[0mpbar\u001b[0m \u001b[0;34m=\u001b[0m \u001b[0mProgressBar\u001b[0m\u001b[0;34m(\u001b[0m\u001b[0;34m)\u001b[0m\u001b[0;34m\u001b[0m\u001b[0;34m\u001b[0m\u001b[0m\n\u001b[0;32m----> 3\u001b[0;31m \u001b[0mg_fips\u001b[0m \u001b[0;34m=\u001b[0m \u001b[0;34m[\u001b[0m\u001b[0mcoord_to_fips\u001b[0m\u001b[0;34m(\u001b[0m\u001b[0mcoords\u001b[0m\u001b[0;34m)\u001b[0m \u001b[0;32mfor\u001b[0m \u001b[0mcoords\u001b[0m \u001b[0;32min\u001b[0m \u001b[0mpbar\u001b[0m\u001b[0;34m(\u001b[0m\u001b[0mg\u001b[0m\u001b[0;34m)\u001b[0m\u001b[0;34m]\u001b[0m\u001b[0;34m\u001b[0m\u001b[0;34m\u001b[0m\u001b[0m\n\u001b[0m",
      "\u001b[0;32m<ipython-input-36-b401811d1c96>\u001b[0m in \u001b[0;36mcoord_to_fips\u001b[0;34m(x)\u001b[0m\n\u001b[1;32m      1\u001b[0m \u001b[0;31m# feed in list of coordinates\u001b[0m\u001b[0;34m\u001b[0m\u001b[0;34m\u001b[0m\u001b[0;34m\u001b[0m\u001b[0m\n\u001b[1;32m      2\u001b[0m \u001b[0;32mdef\u001b[0m \u001b[0mcoord_to_fips\u001b[0m\u001b[0;34m(\u001b[0m\u001b[0mx\u001b[0m\u001b[0;34m)\u001b[0m\u001b[0;34m:\u001b[0m\u001b[0;34m\u001b[0m\u001b[0;34m\u001b[0m\u001b[0m\n\u001b[0;32m----> 3\u001b[0;31m     \u001b[0mparams\u001b[0m \u001b[0;34m=\u001b[0m \u001b[0murllib\u001b[0m\u001b[0;34m.\u001b[0m\u001b[0mparse\u001b[0m\u001b[0;34m.\u001b[0m\u001b[0murlencode\u001b[0m\u001b[0;34m(\u001b[0m\u001b[0;34m{\u001b[0m\u001b[0;34m'latitude'\u001b[0m\u001b[0;34m:\u001b[0m \u001b[0mx\u001b[0m\u001b[0;34m[\u001b[0m\u001b[0;36m0\u001b[0m\u001b[0;34m]\u001b[0m\u001b[0;34m,\u001b[0m \u001b[0;34m'longitude'\u001b[0m\u001b[0;34m:\u001b[0m\u001b[0mx\u001b[0m\u001b[0;34m[\u001b[0m\u001b[0;36m1\u001b[0m\u001b[0;34m]\u001b[0m\u001b[0;34m,\u001b[0m \u001b[0;34m'format'\u001b[0m\u001b[0;34m:\u001b[0m\u001b[0;34m'json'\u001b[0m\u001b[0;34m}\u001b[0m\u001b[0;34m)\u001b[0m\u001b[0;34m\u001b[0m\u001b[0;34m\u001b[0m\u001b[0m\n\u001b[0m\u001b[1;32m      4\u001b[0m     \u001b[0murl\u001b[0m \u001b[0;34m=\u001b[0m \u001b[0;34m'https://geo.fcc.gov/api/census/block/find?'\u001b[0m \u001b[0;34m+\u001b[0m \u001b[0mparams\u001b[0m\u001b[0;34m\u001b[0m\u001b[0;34m\u001b[0m\u001b[0m\n\u001b[1;32m      5\u001b[0m     \u001b[0mresponse\u001b[0m \u001b[0;34m=\u001b[0m \u001b[0mrequests\u001b[0m\u001b[0;34m.\u001b[0m\u001b[0mget\u001b[0m\u001b[0;34m(\u001b[0m\u001b[0murl\u001b[0m\u001b[0;34m)\u001b[0m\u001b[0;34m\u001b[0m\u001b[0;34m\u001b[0m\u001b[0m\n",
      "\u001b[0;31mTypeError\u001b[0m: 'NoneType' object is not subscriptable"
     ]
    }
   ],
   "source": [
    "from progressbar import ProgressBar\n",
    "pbar = ProgressBar()\n",
    "g_fips = [coord_to_fips(coords) for coords in pbar(g)]\n"
   ]
  },
  {
   "cell_type": "code",
   "execution_count": 86,
   "metadata": {},
   "outputs": [
    {
     "name": "stderr",
     "output_type": "stream",
     "text": [
      "ERROR:geocoder.base:Status code 500 from http://128.59.231.131/nominatim/search.php: ERROR - 500 Server Error: Internal Server Error for url: http://128.59.231.131/nominatim/search.php?q=Austin+Texas&format=jsonv2&addressdetails=1&limit=1\n",
      "ERROR:geocoder.base:Status code 500 from http://128.59.231.131/nominatim/search.php: ERROR - 500 Server Error: Internal Server Error for url: http://128.59.231.131/nominatim/search.php?q=Tucson%2C+AZ&format=jsonv2&addressdetails=1&limit=1\n",
      "ERROR:geocoder.base:Status code 500 from http://128.59.231.131/nominatim/search.php: ERROR - 500 Server Error: Internal Server Error for url: http://128.59.231.131/nominatim/search.php?q=East+Brunswick%2C+NJ&format=jsonv2&addressdetails=1&limit=1\n",
      "ERROR:geocoder.base:Status code 500 from http://128.59.231.131/nominatim/search.php: ERROR - 500 Server Error: Internal Server Error for url: http://128.59.231.131/nominatim/search.php?q=San+Marcos%2C+TX&format=jsonv2&addressdetails=1&limit=1\n",
      "ERROR:geocoder.base:Status code 500 from http://128.59.231.131/nominatim/search.php: ERROR - 500 Server Error: Internal Server Error for url: http://128.59.231.131/nominatim/search.php?q=Boston%2C+MA&format=jsonv2&addressdetails=1&limit=1\n",
      "ERROR:geocoder.base:Status code 500 from http://128.59.231.131/nominatim/search.php: ERROR - 500 Server Error: Internal Server Error for url: http://128.59.231.131/nominatim/search.php?q=New+York%2C+NY&format=jsonv2&addressdetails=1&limit=1\n",
      "ERROR:geocoder.base:Status code 500 from http://128.59.231.131/nominatim/search.php: ERROR - 500 Server Error: Internal Server Error for url: http://128.59.231.131/nominatim/search.php?q=Hells+Hollow%2C+NH&format=jsonv2&addressdetails=1&limit=1\n",
      "ERROR:geocoder.base:Status code 500 from http://128.59.231.131/nominatim/search.php: ERROR - 500 Server Error: Internal Server Error for url: http://128.59.231.131/nominatim/search.php?q=Washington%2C+DC&format=jsonv2&addressdetails=1&limit=1\n",
      "ERROR:geocoder.base:Status code 500 from http://128.59.231.131/nominatim/search.php: ERROR - 500 Server Error: Internal Server Error for url: http://128.59.231.131/nominatim/search.php?q=Las+Vegas%2C+NV&format=jsonv2&addressdetails=1&limit=1\n",
      "ERROR:geocoder.base:Status code 500 from http://128.59.231.131/nominatim/search.php: ERROR - 500 Server Error: Internal Server Error for url: http://128.59.231.131/nominatim/search.php?q=Texas&format=jsonv2&addressdetails=1&limit=1\n",
      "ERROR:geocoder.base:Status code 500 from http://128.59.231.131/nominatim/search.php: ERROR - 500 Server Error: Internal Server Error for url: http://128.59.231.131/nominatim/search.php?q=New+York+City&format=jsonv2&addressdetails=1&limit=1\n",
      "ERROR:geocoder.base:Status code 500 from http://128.59.231.131/nominatim/search.php: ERROR - 500 Server Error: Internal Server Error for url: http://128.59.231.131/nominatim/search.php?q=milford%2C+ohio&format=jsonv2&addressdetails=1&limit=1\n",
      "ERROR:geocoder.base:Status code 500 from http://128.59.231.131/nominatim/search.php: ERROR - 500 Server Error: Internal Server Error for url: http://128.59.231.131/nominatim/search.php?q=Austin%2C+TX&format=jsonv2&addressdetails=1&limit=1\n",
      "ERROR:geocoder.base:Status code 500 from http://128.59.231.131/nominatim/search.php: ERROR - 500 Server Error: Internal Server Error for url: http://128.59.231.131/nominatim/search.php?q=Washington%2F+Geneva&format=jsonv2&addressdetails=1&limit=1\n",
      "ERROR:geocoder.base:Status code 500 from http://128.59.231.131/nominatim/search.php: ERROR - 500 Server Error: Internal Server Error for url: http://128.59.231.131/nominatim/search.php?q=Santa+Rosa%2C+California%2C+USA&format=jsonv2&addressdetails=1&limit=1\n",
      "ERROR:geocoder.base:Status code 500 from http://128.59.231.131/nominatim/search.php: ERROR - 500 Server Error: Internal Server Error for url: http://128.59.231.131/nominatim/search.php?q=New+York%2C+USA&format=jsonv2&addressdetails=1&limit=1\n",
      "ERROR:geocoder.base:Status code 500 from http://128.59.231.131/nominatim/search.php: ERROR - 500 Server Error: Internal Server Error for url: http://128.59.231.131/nominatim/search.php?q=Dallas+TX+-+Cincinnati+OH&format=jsonv2&addressdetails=1&limit=1\n",
      "ERROR:geocoder.base:Status code 500 from http://128.59.231.131/nominatim/search.php: ERROR - 500 Server Error: Internal Server Error for url: http://128.59.231.131/nominatim/search.php?q=California&format=jsonv2&addressdetails=1&limit=1\n",
      "ERROR:geocoder.base:Status code 500 from http://128.59.231.131/nominatim/search.php: ERROR - 500 Server Error: Internal Server Error for url: http://128.59.231.131/nominatim/search.php?q=Kansas+City%2C+KS&format=jsonv2&addressdetails=1&limit=1\n",
      "ERROR:geocoder.base:Status code 500 from http://128.59.231.131/nominatim/search.php: ERROR - 500 Server Error: Internal Server Error for url: http://128.59.231.131/nominatim/search.php?q=Bremerton%2C+WA&format=jsonv2&addressdetails=1&limit=1\n",
      "ERROR:geocoder.base:Status code 500 from http://128.59.231.131/nominatim/search.php: ERROR - 500 Server Error: Internal Server Error for url: http://128.59.231.131/nominatim/search.php?q=Tampa+Bay&format=jsonv2&addressdetails=1&limit=1\n",
      "ERROR:geocoder.base:Status code 500 from http://128.59.231.131/nominatim/search.php: ERROR - 500 Server Error: Internal Server Error for url: http://128.59.231.131/nominatim/search.php?q=Wynantskill+NY&format=jsonv2&addressdetails=1&limit=1\n",
      "ERROR:geocoder.base:Status code 500 from http://128.59.231.131/nominatim/search.php: ERROR - 500 Server Error: Internal Server Error for url: http://128.59.231.131/nominatim/search.php?q=Twentynine+Palms%2C+California&format=jsonv2&addressdetails=1&limit=1\n",
      "ERROR:geocoder.base:Status code 500 from http://128.59.231.131/nominatim/search.php: ERROR - 500 Server Error: Internal Server Error for url: http://128.59.231.131/nominatim/search.php?q=Cerritos%2C+California&format=jsonv2&addressdetails=1&limit=1\n",
      "ERROR:geocoder.base:Status code 500 from http://128.59.231.131/nominatim/search.php: ERROR - 500 Server Error: Internal Server Error for url: http://128.59.231.131/nominatim/search.php?q=San+Jose%2C+California&format=jsonv2&addressdetails=1&limit=1\n",
      "ERROR:geocoder.base:Status code 500 from http://128.59.231.131/nominatim/search.php: ERROR - 500 Server Error: Internal Server Error for url: http://128.59.231.131/nominatim/search.php?q=San+Antonio%2C+TX&format=jsonv2&addressdetails=1&limit=1\n",
      "ERROR:geocoder.base:Status code 500 from http://128.59.231.131/nominatim/search.php: ERROR - 500 Server Error: Internal Server Error for url: http://128.59.231.131/nominatim/search.php?q=Margate%2C+FL&format=jsonv2&addressdetails=1&limit=1\n",
      "ERROR:geocoder.base:Status code 500 from http://128.59.231.131/nominatim/search.php: ERROR - 500 Server Error: Internal Server Error for url: http://128.59.231.131/nominatim/search.php?q=Santa+Monica%2C+California&format=jsonv2&addressdetails=1&limit=1\n",
      "ERROR:geocoder.base:Status code 500 from http://128.59.231.131/nominatim/search.php: ERROR - 500 Server Error: Internal Server Error for url: http://128.59.231.131/nominatim/search.php?q=Orlando%2C+Florida&format=jsonv2&addressdetails=1&limit=1\n",
      "ERROR:geocoder.base:Status code 500 from http://128.59.231.131/nominatim/search.php: ERROR - 500 Server Error: Internal Server Error for url: http://128.59.231.131/nominatim/search.php?q=Portland+Oregon&format=jsonv2&addressdetails=1&limit=1\n",
      "ERROR:geocoder.base:Status code 500 from http://128.59.231.131/nominatim/search.php: ERROR - 500 Server Error: Internal Server Error for url: http://128.59.231.131/nominatim/search.php?q=Washington%2C+DC&format=jsonv2&addressdetails=1&limit=1\n",
      "ERROR:geocoder.base:Status code 500 from http://128.59.231.131/nominatim/search.php: ERROR - 500 Server Error: Internal Server Error for url: http://128.59.231.131/nominatim/search.php?q=Portland%2C+OR&format=jsonv2&addressdetails=1&limit=1\n",
      "ERROR:geocoder.base:Status code 500 from http://128.59.231.131/nominatim/search.php: ERROR - 500 Server Error: Internal Server Error for url: http://128.59.231.131/nominatim/search.php?q=Mattoon%2C+Illinois&format=jsonv2&addressdetails=1&limit=1\n",
      "ERROR:geocoder.base:Status code 500 from http://128.59.231.131/nominatim/search.php: ERROR - 500 Server Error: Internal Server Error for url: http://128.59.231.131/nominatim/search.php?q=Long+Island%2C+NY&format=jsonv2&addressdetails=1&limit=1\n"
     ]
    },
    {
     "name": "stderr",
     "output_type": "stream",
     "text": [
      "ERROR:geocoder.base:Status code 500 from http://128.59.231.131/nominatim/search.php: ERROR - 500 Server Error: Internal Server Error for url: http://128.59.231.131/nominatim/search.php?q=Utah%2C+USA&format=jsonv2&addressdetails=1&limit=1\n",
      "ERROR:geocoder.base:Status code 500 from http://128.59.231.131/nominatim/search.php: ERROR - 500 Server Error: Internal Server Error for url: http://128.59.231.131/nominatim/search.php?q=Spokane+WA&format=jsonv2&addressdetails=1&limit=1\n",
      "ERROR:geocoder.base:Status code 500 from http://128.59.231.131/nominatim/search.php: ERROR - 500 Server Error: Internal Server Error for url: http://128.59.231.131/nominatim/search.php?q=Stoneville%2C+NC&format=jsonv2&addressdetails=1&limit=1\n",
      "ERROR:geocoder.base:Status code 500 from http://128.59.231.131/nominatim/search.php: ERROR - 500 Server Error: Internal Server Error for url: http://128.59.231.131/nominatim/search.php?q=California&format=jsonv2&addressdetails=1&limit=1\n",
      "ERROR:geocoder.base:Status code 500 from http://128.59.231.131/nominatim/search.php: ERROR - 500 Server Error: Internal Server Error for url: http://128.59.231.131/nominatim/search.php?q=Texas%2C+USA&format=jsonv2&addressdetails=1&limit=1\n",
      "ERROR:geocoder.base:Status code 500 from http://128.59.231.131/nominatim/search.php: ERROR - 500 Server Error: Internal Server Error for url: http://128.59.231.131/nominatim/search.php?q=Oakland%2C+California&format=jsonv2&addressdetails=1&limit=1\n",
      "ERROR:geocoder.base:Status code 500 from http://128.59.231.131/nominatim/search.php: ERROR - 500 Server Error: Internal Server Error for url: http://128.59.231.131/nominatim/search.php?q=Florence%2C+SC&format=jsonv2&addressdetails=1&limit=1\n",
      "ERROR:geocoder.base:Status code 500 from http://128.59.231.131/nominatim/search.php: ERROR - 500 Server Error: Internal Server Error for url: http://128.59.231.131/nominatim/search.php?q=Chicago&format=jsonv2&addressdetails=1&limit=1\n",
      "ERROR:geocoder.base:Status code 500 from http://128.59.231.131/nominatim/search.php: ERROR - 500 Server Error: Internal Server Error for url: http://128.59.231.131/nominatim/search.php?q=New+York%2C+USA&format=jsonv2&addressdetails=1&limit=1\n",
      "ERROR:geocoder.base:Status code 500 from http://128.59.231.131/nominatim/search.php: ERROR - 500 Server Error: Internal Server Error for url: http://128.59.231.131/nominatim/search.php?q=GRENADA%2C+MS&format=jsonv2&addressdetails=1&limit=1\n",
      "ERROR:geocoder.base:Status code 500 from http://128.59.231.131/nominatim/search.php: ERROR - 500 Server Error: Internal Server Error for url: http://128.59.231.131/nominatim/search.php?q=Nebraska%2C+USA&format=jsonv2&addressdetails=1&limit=1\n",
      "ERROR:geocoder.base:Status code 500 from http://128.59.231.131/nominatim/search.php: ERROR - 500 Server Error: Internal Server Error for url: http://128.59.231.131/nominatim/search.php?q=Montgomery%2C+AL&format=jsonv2&addressdetails=1&limit=1\n",
      "ERROR:geocoder.base:Status code 500 from http://128.59.231.131/nominatim/search.php: ERROR - 500 Server Error: Internal Server Error for url: http://128.59.231.131/nominatim/search.php?q=Chicago&format=jsonv2&addressdetails=1&limit=1\n",
      "ERROR:geocoder.base:Status code 500 from http://128.59.231.131/nominatim/search.php: ERROR - 500 Server Error: Internal Server Error for url: http://128.59.231.131/nominatim/search.php?q=Rochester%2C+Michigan%2C+USA&format=jsonv2&addressdetails=1&limit=1\n",
      "ERROR:geocoder.base:Status code 500 from http://128.59.231.131/nominatim/search.php: ERROR - 500 Server Error: Internal Server Error for url: http://128.59.231.131/nominatim/search.php?q=Land+O+Lakes%2C+FL&format=jsonv2&addressdetails=1&limit=1\n",
      "ERROR:geocoder.base:Status code 500 from http://128.59.231.131/nominatim/search.php: ERROR - 500 Server Error: Internal Server Error for url: http://128.59.231.131/nominatim/search.php?q=Austin%2C+TX&format=jsonv2&addressdetails=1&limit=1\n",
      "ERROR:geocoder.base:Status code 500 from http://128.59.231.131/nominatim/search.php: ERROR - 500 Server Error: Internal Server Error for url: http://128.59.231.131/nominatim/search.php?q=Washington%2C+USA&format=jsonv2&addressdetails=1&limit=1\n",
      "ERROR:geocoder.base:Status code 500 from http://128.59.231.131/nominatim/search.php: ERROR - 500 Server Error: Internal Server Error for url: http://128.59.231.131/nominatim/search.php?q=Cleveland%2C+Ohio&format=jsonv2&addressdetails=1&limit=1\n",
      "ERROR:geocoder.base:Status code 500 from http://128.59.231.131/nominatim/search.php: ERROR - 500 Server Error: Internal Server Error for url: http://128.59.231.131/nominatim/search.php?q=Las+Vegas%2C+NV&format=jsonv2&addressdetails=1&limit=1\n",
      "ERROR:geocoder.base:Status code 500 from http://128.59.231.131/nominatim/search.php: ERROR - 500 Server Error: Internal Server Error for url: http://128.59.231.131/nominatim/search.php?q=Houston%2C+Texas&format=jsonv2&addressdetails=1&limit=1\n",
      "ERROR:geocoder.base:Status code 500 from http://128.59.231.131/nominatim/search.php: ERROR - 500 Server Error: Internal Server Error for url: http://128.59.231.131/nominatim/search.php?q=California%2C+USA&format=jsonv2&addressdetails=1&limit=1\n",
      "ERROR:geocoder.base:Status code 500 from http://128.59.231.131/nominatim/search.php: ERROR - 500 Server Error: Internal Server Error for url: http://128.59.231.131/nominatim/search.php?q=Los+Angeles%2C+California&format=jsonv2&addressdetails=1&limit=1\n",
      "ERROR:geocoder.base:Status code 500 from http://128.59.231.131/nominatim/search.php: ERROR - 500 Server Error: Internal Server Error for url: http://128.59.231.131/nominatim/search.php?q=DeKalb%2C+IL&format=jsonv2&addressdetails=1&limit=1\n",
      "ERROR:geocoder.base:Status code 500 from http://128.59.231.131/nominatim/search.php: ERROR - 500 Server Error: Internal Server Error for url: http://128.59.231.131/nominatim/search.php?q=Oxford%2C+OH&format=jsonv2&addressdetails=1&limit=1\n",
      "ERROR:geocoder.base:Status code 500 from http://128.59.231.131/nominatim/search.php: ERROR - 500 Server Error: Internal Server Error for url: http://128.59.231.131/nominatim/search.php?q=Daytona+Beach%2C+FL&format=jsonv2&addressdetails=1&limit=1\n",
      "ERROR:geocoder.base:Status code 500 from http://128.59.231.131/nominatim/search.php: ERROR - 500 Server Error: Internal Server Error for url: http://128.59.231.131/nominatim/search.php?q=Atlanta&format=jsonv2&addressdetails=1&limit=1\n",
      "ERROR:geocoder.base:Status code 500 from http://128.59.231.131/nominatim/search.php: ERROR - 500 Server Error: Internal Server Error for url: http://128.59.231.131/nominatim/search.php?q=Mechanicsburg%2C+PA&format=jsonv2&addressdetails=1&limit=1\n",
      "ERROR:geocoder.base:Status code 500 from http://128.59.231.131/nominatim/search.php: ERROR - 500 Server Error: Internal Server Error for url: http://128.59.231.131/nominatim/search.php?q=Virginia&format=jsonv2&addressdetails=1&limit=1\n",
      "ERROR:geocoder.base:Status code 500 from http://128.59.231.131/nominatim/search.php: ERROR - 500 Server Error: Internal Server Error for url: http://128.59.231.131/nominatim/search.php?q=PUERTO+RICO&format=jsonv2&addressdetails=1&limit=1\n",
      "ERROR:geocoder.base:Status code 500 from http://128.59.231.131/nominatim/search.php: ERROR - 500 Server Error: Internal Server Error for url: http://128.59.231.131/nominatim/search.php?q=SC&format=jsonv2&addressdetails=1&limit=1\n",
      "ERROR:geocoder.base:Status code 500 from http://128.59.231.131/nominatim/search.php: ERROR - 500 Server Error: Internal Server Error for url: http://128.59.231.131/nominatim/search.php?q=NYC&format=jsonv2&addressdetails=1&limit=1\n",
      "ERROR:geocoder.base:Status code 500 from http://128.59.231.131/nominatim/search.php: ERROR - 500 Server Error: Internal Server Error for url: http://128.59.231.131/nominatim/search.php?q=Washington%2C+DC&format=jsonv2&addressdetails=1&limit=1\n",
      "ERROR:geocoder.base:Status code 500 from http://128.59.231.131/nominatim/search.php: ERROR - 500 Server Error: Internal Server Error for url: http://128.59.231.131/nominatim/search.php?q=Newport+News%2C+VA&format=jsonv2&addressdetails=1&limit=1\n",
      "ERROR:geocoder.base:Status code 500 from http://128.59.231.131/nominatim/search.php: ERROR - 500 Server Error: Internal Server Error for url: http://128.59.231.131/nominatim/search.php?q=Washington+DC&format=jsonv2&addressdetails=1&limit=1\n",
      "ERROR:geocoder.base:Status code 500 from http://128.59.231.131/nominatim/search.php: ERROR - 500 Server Error: Internal Server Error for url: http://128.59.231.131/nominatim/search.php?q=Pittsburgh+area&format=jsonv2&addressdetails=1&limit=1\n",
      "ERROR:geocoder.base:Status code 500 from http://128.59.231.131/nominatim/search.php: ERROR - 500 Server Error: Internal Server Error for url: http://128.59.231.131/nominatim/search.php?q=New+York%2C+USA&format=jsonv2&addressdetails=1&limit=1\n",
      "ERROR:geocoder.base:Status code 500 from http://128.59.231.131/nominatim/search.php: ERROR - 500 Server Error: Internal Server Error for url: http://128.59.231.131/nominatim/search.php?q=Palm+Beach+Gardens%2C+FL&format=jsonv2&addressdetails=1&limit=1\n",
      "ERROR:geocoder.base:Status code 500 from http://128.59.231.131/nominatim/search.php: ERROR - 500 Server Error: Internal Server Error for url: http://128.59.231.131/nominatim/search.php?q=Newport+Beach%2C+California&format=jsonv2&addressdetails=1&limit=1\n",
      "ERROR:geocoder.base:Status code 500 from http://128.59.231.131/nominatim/search.php: ERROR - 500 Server Error: Internal Server Error for url: http://128.59.231.131/nominatim/search.php?q=Texas&format=jsonv2&addressdetails=1&limit=1\n",
      "ERROR:geocoder.base:Status code 500 from http://128.59.231.131/nominatim/search.php: ERROR - 500 Server Error: Internal Server Error for url: http://128.59.231.131/nominatim/search.php?q=Las+Vegas%2C+NV&format=jsonv2&addressdetails=1&limit=1\n",
      "ERROR:geocoder.base:Status code 500 from http://128.59.231.131/nominatim/search.php: ERROR - 500 Server Error: Internal Server Error for url: http://128.59.231.131/nominatim/search.php?q=San+Francisco%2C+California&format=jsonv2&addressdetails=1&limit=1\n",
      "ERROR:geocoder.base:Status code 500 from http://128.59.231.131/nominatim/search.php: ERROR - 500 Server Error: Internal Server Error for url: http://128.59.231.131/nominatim/search.php?q=Spokane%2C+WA&format=jsonv2&addressdetails=1&limit=1\n",
      "ERROR:geocoder.base:Status code 500 from http://128.59.231.131/nominatim/search.php: ERROR - 500 Server Error: Internal Server Error for url: http://128.59.231.131/nominatim/search.php?q=Los+Angeles%2C+California&format=jsonv2&addressdetails=1&limit=1\n",
      "ERROR:geocoder.base:Status code 500 from http://128.59.231.131/nominatim/search.php: ERROR - 500 Server Error: Internal Server Error for url: http://128.59.231.131/nominatim/search.php?q=Pasadena%2C+California&format=jsonv2&addressdetails=1&limit=1\n",
      "ERROR:geocoder.base:Status code 500 from http://128.59.231.131/nominatim/search.php: ERROR - 500 Server Error: Internal Server Error for url: http://128.59.231.131/nominatim/search.php?q=Washington%2C+DC&format=jsonv2&addressdetails=1&limit=1\n",
      "ERROR:geocoder.base:Status code 500 from http://128.59.231.131/nominatim/search.php: ERROR - 500 Server Error: Internal Server Error for url: http://128.59.231.131/nominatim/search.php?q=Portsmouth%2C+NH&format=jsonv2&addressdetails=1&limit=1\n",
      "ERROR:geocoder.base:Status code 500 from http://128.59.231.131/nominatim/search.php: ERROR - 500 Server Error: Internal Server Error for url: http://128.59.231.131/nominatim/search.php?q=OR&format=jsonv2&addressdetails=1&limit=1\n",
      "ERROR:geocoder.base:Status code 500 from http://128.59.231.131/nominatim/search.php: ERROR - 500 Server Error: Internal Server Error for url: http://128.59.231.131/nominatim/search.php?q=SCU+%F0%9F%8C%B4&format=jsonv2&addressdetails=1&limit=1\n",
      "ERROR:geocoder.base:Status code 500 from http://128.59.231.131/nominatim/search.php: ERROR - 500 Server Error: Internal Server Error for url: http://128.59.231.131/nominatim/search.php?q=Oakland&format=jsonv2&addressdetails=1&limit=1\n",
      "ERROR:geocoder.base:Status code 500 from http://128.59.231.131/nominatim/search.php: ERROR - 500 Server Error: Internal Server Error for url: http://128.59.231.131/nominatim/search.php?q=Santa+Barbara%2C+California&format=jsonv2&addressdetails=1&limit=1\n",
      "ERROR:geocoder.base:Status code 500 from http://128.59.231.131/nominatim/search.php: ERROR - 500 Server Error: Internal Server Error for url: http://128.59.231.131/nominatim/search.php?q=Bellevue%2C+WA&format=jsonv2&addressdetails=1&limit=1\n",
      "ERROR:geocoder.base:Status code 500 from http://128.59.231.131/nominatim/search.php: ERROR - 500 Server Error: Internal Server Error for url: http://128.59.231.131/nominatim/search.php?q=Oregon%2C+USA&format=jsonv2&addressdetails=1&limit=1\n",
      "ERROR:geocoder.base:Status code 500 from http://128.59.231.131/nominatim/search.php: ERROR - 500 Server Error: Internal Server Error for url: http://128.59.231.131/nominatim/search.php?q=Houston%2C+TX&format=jsonv2&addressdetails=1&limit=1\n",
      "ERROR:geocoder.base:Status code 500 from http://128.59.231.131/nominatim/search.php: ERROR - 500 Server Error: Internal Server Error for url: http://128.59.231.131/nominatim/search.php?q=Northern+California+USA&format=jsonv2&addressdetails=1&limit=1\n",
      "ERROR:geocoder.base:Status code 500 from http://128.59.231.131/nominatim/search.php: ERROR - 500 Server Error: Internal Server Error for url: http://128.59.231.131/nominatim/search.php?q=Little+Rock%2C+AR&format=jsonv2&addressdetails=1&limit=1\n",
      "ERROR:geocoder.base:Status code 500 from http://128.59.231.131/nominatim/search.php: ERROR - 500 Server Error: Internal Server Error for url: http://128.59.231.131/nominatim/search.php?q=New+York%2C+USA&format=jsonv2&addressdetails=1&limit=1\n",
      "ERROR:geocoder.base:Status code 500 from http://128.59.231.131/nominatim/search.php: ERROR - 500 Server Error: Internal Server Error for url: http://128.59.231.131/nominatim/search.php?q=Washington%2C+DC&format=jsonv2&addressdetails=1&limit=1\n",
      "ERROR:geocoder.base:Status code 500 from http://128.59.231.131/nominatim/search.php: ERROR - 500 Server Error: Internal Server Error for url: http://128.59.231.131/nominatim/search.php?q=Garden+City%2C+New+York&format=jsonv2&addressdetails=1&limit=1\n",
      "ERROR:geocoder.base:Status code 500 from http://128.59.231.131/nominatim/search.php: ERROR - 500 Server Error: Internal Server Error for url: http://128.59.231.131/nominatim/search.php?q=Texas%2C+USA&format=jsonv2&addressdetails=1&limit=1\n",
      "ERROR:geocoder.base:Status code 500 from http://128.59.231.131/nominatim/search.php: ERROR - 500 Server Error: Internal Server Error for url: http://128.59.231.131/nominatim/search.php?q=Philadelphia%2C+PA&format=jsonv2&addressdetails=1&limit=1\n",
      "ERROR:geocoder.base:Status code 500 from http://128.59.231.131/nominatim/search.php: ERROR - 500 Server Error: Internal Server Error for url: http://128.59.231.131/nominatim/search.php?q=Schenectady%2C+NY&format=jsonv2&addressdetails=1&limit=1\n",
      "ERROR:geocoder.base:Status code 500 from http://128.59.231.131/nominatim/search.php: ERROR - 500 Server Error: Internal Server Error for url: http://128.59.231.131/nominatim/search.php?q=Virginia%2C+USA&format=jsonv2&addressdetails=1&limit=1\n",
      "ERROR:geocoder.base:Status code 500 from http://128.59.231.131/nominatim/search.php: ERROR - 500 Server Error: Internal Server Error for url: http://128.59.231.131/nominatim/search.php?q=Madison%2C+WI&format=jsonv2&addressdetails=1&limit=1\n",
      "ERROR:geocoder.base:Status code 500 from http://128.59.231.131/nominatim/search.php: ERROR - 500 Server Error: Internal Server Error for url: http://128.59.231.131/nominatim/search.php?q=Spartanburg%2C+SC&format=jsonv2&addressdetails=1&limit=1\n",
      "ERROR:geocoder.base:Status code 500 from http://128.59.231.131/nominatim/search.php: ERROR - 500 Server Error: Internal Server Error for url: http://128.59.231.131/nominatim/search.php?q=Cambridge%2C+MA&format=jsonv2&addressdetails=1&limit=1\n",
      "ERROR:geocoder.base:Status code 500 from http://128.59.231.131/nominatim/search.php: ERROR - 500 Server Error: Internal Server Error for url: http://128.59.231.131/nominatim/search.php?q=Arkansas%2C+USA&format=jsonv2&addressdetails=1&limit=1\n",
      "ERROR:geocoder.base:Status code 500 from http://128.59.231.131/nominatim/search.php: ERROR - 500 Server Error: Internal Server Error for url: http://128.59.231.131/nominatim/search.php?q=Youngstown%2C+OH&format=jsonv2&addressdetails=1&limit=1\n",
      "ERROR:geocoder.base:Status code 500 from http://128.59.231.131/nominatim/search.php: ERROR - 500 Server Error: Internal Server Error for url: http://128.59.231.131/nominatim/search.php?q=Anniston%2C+Alabama&format=jsonv2&addressdetails=1&limit=1\n"
     ]
    },
    {
     "name": "stderr",
     "output_type": "stream",
     "text": [
      "ERROR:geocoder.base:Status code 500 from http://128.59.231.131/nominatim/search.php: ERROR - 500 Server Error: Internal Server Error for url: http://128.59.231.131/nominatim/search.php?q=Dallas%2C+TX&format=jsonv2&addressdetails=1&limit=1\n",
      "ERROR:geocoder.base:Status code 500 from http://128.59.231.131/nominatim/search.php: ERROR - 500 Server Error: Internal Server Error for url: http://128.59.231.131/nominatim/search.php?q=Richmond%2C+TX&format=jsonv2&addressdetails=1&limit=1\n",
      "ERROR:geocoder.base:Status code 500 from http://128.59.231.131/nominatim/search.php: ERROR - 500 Server Error: Internal Server Error for url: http://128.59.231.131/nominatim/search.php?q=Cornelius%2C+OR&format=jsonv2&addressdetails=1&limit=1\n",
      "ERROR:geocoder.base:Status code 500 from http://128.59.231.131/nominatim/search.php: ERROR - 500 Server Error: Internal Server Error for url: http://128.59.231.131/nominatim/search.php?q=Maine%2C+USA&format=jsonv2&addressdetails=1&limit=1\n",
      "ERROR:geocoder.base:Status code 500 from http://128.59.231.131/nominatim/search.php: ERROR - 500 Server Error: Internal Server Error for url: http://128.59.231.131/nominatim/search.php?q=Seattle&format=jsonv2&addressdetails=1&limit=1\n",
      "ERROR:geocoder.base:Status code 500 from http://128.59.231.131/nominatim/search.php: ERROR - 500 Server Error: Internal Server Error for url: http://128.59.231.131/nominatim/search.php?q=Indiana&format=jsonv2&addressdetails=1&limit=1\n",
      "ERROR:geocoder.base:Status code 500 from http://128.59.231.131/nominatim/search.php: ERROR - 500 Server Error: Internal Server Error for url: http://128.59.231.131/nominatim/search.php?q=BackWoods+Georgia%2C+USA&format=jsonv2&addressdetails=1&limit=1\n",
      "ERROR:geocoder.base:Status code 500 from http://128.59.231.131/nominatim/search.php: ERROR - 500 Server Error: Internal Server Error for url: http://128.59.231.131/nominatim/search.php?q=Rochester%2C+NY%2C+USA&format=jsonv2&addressdetails=1&limit=1\n",
      "ERROR:geocoder.base:Status code 500 from http://128.59.231.131/nominatim/search.php: ERROR - 500 Server Error: Internal Server Error for url: http://128.59.231.131/nominatim/search.php?q=Effingham%2C+Kansas&format=jsonv2&addressdetails=1&limit=1\n",
      "ERROR:geocoder.base:Status code 500 from http://128.59.231.131/nominatim/search.php: ERROR - 500 Server Error: Internal Server Error for url: http://128.59.231.131/nominatim/search.php?q=Salt+Lake+City%2C+UT&format=jsonv2&addressdetails=1&limit=1\n",
      "ERROR:geocoder.base:Status code 500 from http://128.59.231.131/nominatim/search.php: ERROR - 500 Server Error: Internal Server Error for url: http://128.59.231.131/nominatim/search.php?q=Texas%2C+USA&format=jsonv2&addressdetails=1&limit=1\n",
      "ERROR:geocoder.base:Status code 500 from http://128.59.231.131/nominatim/search.php: ERROR - 500 Server Error: Internal Server Error for url: http://128.59.231.131/nominatim/search.php?q=Arizona&format=jsonv2&addressdetails=1&limit=1\n",
      "ERROR:geocoder.base:Status code 500 from http://128.59.231.131/nominatim/search.php: ERROR - 500 Server Error: Internal Server Error for url: http://128.59.231.131/nominatim/search.php?q=Memphis%2C+Tennessee&format=jsonv2&addressdetails=1&limit=1\n",
      "ERROR:geocoder.base:Status code 500 from http://128.59.231.131/nominatim/search.php: ERROR - 500 Server Error: Internal Server Error for url: http://128.59.231.131/nominatim/search.php?q=Bay+Area%2C+California&format=jsonv2&addressdetails=1&limit=1\n",
      "ERROR:geocoder.base:Status code 500 from http://128.59.231.131/nominatim/search.php: ERROR - 500 Server Error: Internal Server Error for url: http://128.59.231.131/nominatim/search.php?q=Delaware%2C+USA&format=jsonv2&addressdetails=1&limit=1\n",
      "ERROR:geocoder.base:Status code 500 from http://128.59.231.131/nominatim/search.php: ERROR - 500 Server Error: Internal Server Error for url: http://128.59.231.131/nominatim/search.php?q=Milwaukee%2C+WI&format=jsonv2&addressdetails=1&limit=1\n",
      "ERROR:geocoder.base:Status code 500 from http://128.59.231.131/nominatim/search.php: ERROR - 500 Server Error: Internal Server Error for url: http://128.59.231.131/nominatim/search.php?q=Oceanside%2C+California&format=jsonv2&addressdetails=1&limit=1\n",
      "ERROR:geocoder.base:Status code 500 from http://128.59.231.131/nominatim/search.php: ERROR - 500 Server Error: Internal Server Error for url: http://128.59.231.131/nominatim/search.php?q=Philadelphia%2C+PA&format=jsonv2&addressdetails=1&limit=1\n",
      "ERROR:geocoder.base:Status code 500 from http://128.59.231.131/nominatim/search.php: ERROR - 500 Server Error: Internal Server Error for url: http://128.59.231.131/nominatim/search.php?q=Winchester%2C+Massachusetts&format=jsonv2&addressdetails=1&limit=1\n",
      "ERROR:geocoder.base:Status code 500 from http://128.59.231.131/nominatim/search.php: ERROR - 500 Server Error: Internal Server Error for url: http://128.59.231.131/nominatim/search.php?q=Washington%2C+DC&format=jsonv2&addressdetails=1&limit=1\n",
      "ERROR:geocoder.base:Status code 500 from http://128.59.231.131/nominatim/search.php: ERROR - 500 Server Error: Internal Server Error for url: http://128.59.231.131/nominatim/search.php?q=California%2C+USA&format=jsonv2&addressdetails=1&limit=1\n",
      "ERROR:geocoder.base:Status code 500 from http://128.59.231.131/nominatim/search.php: ERROR - 500 Server Error: Internal Server Error for url: http://128.59.231.131/nominatim/search.php?q=Visalia%2C+California&format=jsonv2&addressdetails=1&limit=1\n",
      "ERROR:geocoder.base:Status code 500 from http://128.59.231.131/nominatim/search.php: ERROR - 500 Server Error: Internal Server Error for url: http://128.59.231.131/nominatim/search.php?q=Seattle%2C+WA&format=jsonv2&addressdetails=1&limit=1\n",
      "ERROR:geocoder.base:Status code 500 from http://128.59.231.131/nominatim/search.php: ERROR - 500 Server Error: Internal Server Error for url: http://128.59.231.131/nominatim/search.php?q=California%2C+USA&format=jsonv2&addressdetails=1&limit=1\n",
      "ERROR:geocoder.base:Status code 500 from http://128.59.231.131/nominatim/search.php: ERROR - 500 Server Error: Internal Server Error for url: http://128.59.231.131/nominatim/search.php?q=MN+%2F%2F+USA&format=jsonv2&addressdetails=1&limit=1\n",
      "ERROR:geocoder.base:Status code 500 from http://128.59.231.131/nominatim/search.php: ERROR - 500 Server Error: Internal Server Error for url: http://128.59.231.131/nominatim/search.php?q=Shreveport%2C+LA&format=jsonv2&addressdetails=1&limit=1\n",
      "ERROR:geocoder.base:Status code 500 from http://128.59.231.131/nominatim/search.php: ERROR - 500 Server Error: Internal Server Error for url: http://128.59.231.131/nominatim/search.php?q=Herndon%2C+VA+USA&format=jsonv2&addressdetails=1&limit=1\n",
      "ERROR:geocoder.base:Status code 500 from http://128.59.231.131/nominatim/search.php: ERROR - 500 Server Error: Internal Server Error for url: http://128.59.231.131/nominatim/search.php?q=Missouri&format=jsonv2&addressdetails=1&limit=1\n",
      "ERROR:geocoder.base:Status code 500 from http://128.59.231.131/nominatim/search.php: ERROR - 500 Server Error: Internal Server Error for url: http://128.59.231.131/nominatim/search.php?q=Louisiana%2C+USA&format=jsonv2&addressdetails=1&limit=1\n",
      "ERROR:geocoder.base:Status code 500 from http://128.59.231.131/nominatim/search.php: ERROR - 500 Server Error: Internal Server Error for url: http://128.59.231.131/nominatim/search.php?q=New+York%2C+New+York&format=jsonv2&addressdetails=1&limit=1\n",
      "ERROR:geocoder.base:Status code 500 from http://128.59.231.131/nominatim/search.php: ERROR - 500 Server Error: Internal Server Error for url: http://128.59.231.131/nominatim/search.php?q=North+Shore%2C+Boston+&format=jsonv2&addressdetails=1&limit=1\n",
      "ERROR:geocoder.base:Status code 500 from http://128.59.231.131/nominatim/search.php: ERROR - 500 Server Error: Internal Server Error for url: http://128.59.231.131/nominatim/search.php?q=Columbia%2C+SC&format=jsonv2&addressdetails=1&limit=1\n",
      "ERROR:geocoder.base:Status code 500 from http://128.59.231.131/nominatim/search.php: ERROR - 500 Server Error: Internal Server Error for url: http://128.59.231.131/nominatim/search.php?q=New+York%2C+USA&format=jsonv2&addressdetails=1&limit=1\n",
      "ERROR:geocoder.base:Status code 500 from http://128.59.231.131/nominatim/search.php: ERROR - 500 Server Error: Internal Server Error for url: http://128.59.231.131/nominatim/search.php?q=Boston+Massachusetts&format=jsonv2&addressdetails=1&limit=1\n"
     ]
    },
    {
     "name": "stderr",
     "output_type": "stream",
     "text": [
      "ERROR:geocoder.base:Status code 500 from http://128.59.231.131/nominatim/search.php: ERROR - 500 Server Error: Internal Server Error for url: http://128.59.231.131/nominatim/search.php?q=Maryland%2C+USA&format=jsonv2&addressdetails=1&limit=1\n",
      "ERROR:geocoder.base:Status code 500 from http://128.59.231.131/nominatim/search.php: ERROR - 500 Server Error: Internal Server Error for url: http://128.59.231.131/nominatim/search.php?q=San+Francisco%2C+California&format=jsonv2&addressdetails=1&limit=1\n",
      "ERROR:geocoder.base:Status code 500 from http://128.59.231.131/nominatim/search.php: ERROR - 500 Server Error: Internal Server Error for url: http://128.59.231.131/nominatim/search.php?q=Virginia%2C+USA&format=jsonv2&addressdetails=1&limit=1\n",
      "ERROR:geocoder.base:Status code 500 from http://128.59.231.131/nominatim/search.php: ERROR - 500 Server Error: Internal Server Error for url: http://128.59.231.131/nominatim/search.php?q=Miami&format=jsonv2&addressdetails=1&limit=1\n",
      "ERROR:geocoder.base:Status code 500 from http://128.59.231.131/nominatim/search.php: ERROR - 500 Server Error: Internal Server Error for url: http://128.59.231.131/nominatim/search.php?q=new+york+city&format=jsonv2&addressdetails=1&limit=1\n",
      "ERROR:geocoder.base:Status code 500 from http://128.59.231.131/nominatim/search.php: ERROR - 500 Server Error: Internal Server Error for url: http://128.59.231.131/nominatim/search.php?q=New+York%2C+NY&format=jsonv2&addressdetails=1&limit=1\n",
      "ERROR:geocoder.base:Status code 500 from http://128.59.231.131/nominatim/search.php: ERROR - 500 Server Error: Internal Server Error for url: http://128.59.231.131/nominatim/search.php?q=Dallas%2C+TX+%F0%9F%8C%88&format=jsonv2&addressdetails=1&limit=1\n",
      "ERROR:geocoder.base:Status code 500 from http://128.59.231.131/nominatim/search.php: ERROR - 500 Server Error: Internal Server Error for url: http://128.59.231.131/nominatim/search.php?q=Indianapolis%2C+IN&format=jsonv2&addressdetails=1&limit=1\n",
      "ERROR:geocoder.base:Status code 500 from http://128.59.231.131/nominatim/search.php: ERROR - 500 Server Error: Internal Server Error for url: http://128.59.231.131/nominatim/search.php?q=New+York%2C+NY&format=jsonv2&addressdetails=1&limit=1\n",
      "ERROR:geocoder.base:Status code 500 from http://128.59.231.131/nominatim/search.php: ERROR - 500 Server Error: Internal Server Error for url: http://128.59.231.131/nominatim/search.php?q=Washington%2C+DC&format=jsonv2&addressdetails=1&limit=1\n",
      "ERROR:geocoder.base:Status code 500 from http://128.59.231.131/nominatim/search.php: ERROR - 500 Server Error: Internal Server Error for url: http://128.59.231.131/nominatim/search.php?q=Denver%2C+CO&format=jsonv2&addressdetails=1&limit=1\n",
      "ERROR:geocoder.base:Status code 500 from http://128.59.231.131/nominatim/search.php: ERROR - 500 Server Error: Internal Server Error for url: http://128.59.231.131/nominatim/search.php?q=Washington+DC&format=jsonv2&addressdetails=1&limit=1\n",
      "ERROR:geocoder.base:Status code 500 from http://128.59.231.131/nominatim/search.php: ERROR - 500 Server Error: Internal Server Error for url: http://128.59.231.131/nominatim/search.php?q=Kansas+City%2C+Missouri&format=jsonv2&addressdetails=1&limit=1\n",
      "ERROR:geocoder.base:Status code 500 from http://128.59.231.131/nominatim/search.php: ERROR - 500 Server Error: Internal Server Error for url: http://128.59.231.131/nominatim/search.php?q=New+York+City&format=jsonv2&addressdetails=1&limit=1\n",
      "ERROR:geocoder.base:Status code 500 from http://128.59.231.131/nominatim/search.php: ERROR - 500 Server Error: Internal Server Error for url: http://128.59.231.131/nominatim/search.php?q=Mechanicsburg%2C+PA&format=jsonv2&addressdetails=1&limit=1\n",
      "ERROR:geocoder.base:Status code 500 from http://128.59.231.131/nominatim/search.php: ERROR - 500 Server Error: Internal Server Error for url: http://128.59.231.131/nominatim/search.php?q=Chicago%2C+IL&format=jsonv2&addressdetails=1&limit=1\n",
      "ERROR:geocoder.base:Status code 500 from http://128.59.231.131/nominatim/search.php: ERROR - 500 Server Error: Internal Server Error for url: http://128.59.231.131/nominatim/search.php?q=Houston%2C+TX&format=jsonv2&addressdetails=1&limit=1\n",
      "ERROR:geocoder.base:Status code 500 from http://128.59.231.131/nominatim/search.php: ERROR - 500 Server Error: Internal Server Error for url: http://128.59.231.131/nominatim/search.php?q=New+Orleans+%2F+San+Francisco&format=jsonv2&addressdetails=1&limit=1\n",
      "ERROR:geocoder.base:Status code 500 from http://128.59.231.131/nominatim/search.php: ERROR - 500 Server Error: Internal Server Error for url: http://128.59.231.131/nominatim/search.php?q=New+York%2C+USA&format=jsonv2&addressdetails=1&limit=1\n",
      "ERROR:geocoder.base:Status code 500 from http://128.59.231.131/nominatim/search.php: ERROR - 500 Server Error: Internal Server Error for url: http://128.59.231.131/nominatim/search.php?q=New+Providence%2C+NJ&format=jsonv2&addressdetails=1&limit=1\n",
      "ERROR:geocoder.base:Status code 500 from http://128.59.231.131/nominatim/search.php: ERROR - 500 Server Error: Internal Server Error for url: http://128.59.231.131/nominatim/search.php?q=Oakbrook+Terrace%2C+IL&format=jsonv2&addressdetails=1&limit=1\n",
      "ERROR:geocoder.base:Status code 500 from http://128.59.231.131/nominatim/search.php: ERROR - 500 Server Error: Internal Server Error for url: http://128.59.231.131/nominatim/search.php?q=Cleveland&format=jsonv2&addressdetails=1&limit=1\n",
      "ERROR:geocoder.base:Status code 500 from http://128.59.231.131/nominatim/search.php: ERROR - 500 Server Error: Internal Server Error for url: http://128.59.231.131/nominatim/search.php?q=Intercourse%2C+PA&format=jsonv2&addressdetails=1&limit=1\n",
      "ERROR:geocoder.base:Status code 500 from http://128.59.231.131/nominatim/search.php: ERROR - 500 Server Error: Internal Server Error for url: http://128.59.231.131/nominatim/search.php?q=Washington%2C+D.C.&format=jsonv2&addressdetails=1&limit=1\n",
      "ERROR:geocoder.base:Status code 500 from http://128.59.231.131/nominatim/search.php: ERROR - 500 Server Error: Internal Server Error for url: http://128.59.231.131/nominatim/search.php?q=Atlanta%2C+GA&format=jsonv2&addressdetails=1&limit=1\n",
      "100% |########################################################################|\n"
     ]
    }
   ],
   "source": [
    "from progressbar import ProgressBar\n",
    "pbar = ProgressBar()\n",
    "#g = tweets_usa['location'].progress_apply(geocoder.arcgis)\n",
    "g = [geocoder.osm(location, url = 'http://128.59.231.131/nominatim/search.php') for location in pbar(tweets_usa['location'])]"
   ]
  },
  {
   "cell_type": "code",
   "execution_count": 94,
   "metadata": {},
   "outputs": [
    {
     "name": "stderr",
     "output_type": "stream",
     "text": [
      "ERROR:geocoder.base:Status code 500 from http://128.59.231.131/nominatim/search.php: ERROR - 500 Server Error: Internal Server Error for url: http://128.59.231.131/nominatim/search.php?q=New+York+City&format=jsonv2&addressdetails=1&limit=1\n"
     ]
    },
    {
     "data": {
      "text/plain": [
       "<[ERROR - 500 Server Error: Internal Server Error for url: http://128.59.231.131/nominatim/search.php?q=New+York+City&format=jsonv2&addressdetails=1&limit=1] Osm - Geocode [empty]>"
      ]
     },
     "execution_count": 94,
     "metadata": {},
     "output_type": "execute_result"
    }
   ],
   "source": [
    "geocoder.osm(\"New York City\", url = 'http://128.59.231.131/nominatim/search.php')"
   ]
  },
  {
   "cell_type": "code",
   "execution_count": 51,
   "metadata": {},
   "outputs": [
    {
     "name": "stdout",
     "output_type": "stream",
     "text": [
      "NYC, New York, United States of America\n"
     ]
    }
   ],
   "source": [
    "from geopy.geocoders import OpenMapQuest\n",
    "geolocator = OpenMapQuest(api_key = 'p047o1tyzswK5IDBKurrrcbB712eGS1f', timeout = 10)\n",
    "location = geolocator.geocode(\"New York City\")\n",
    "print(location)"
   ]
  },
  {
   "cell_type": "code",
   "execution_count": 32,
   "metadata": {},
   "outputs": [
    {
     "ename": "ValueError",
     "evalue": "Invalid method",
     "output_type": "error",
     "traceback": [
      "\u001b[0;31m---------------------------------------------------------------------------\u001b[0m",
      "\u001b[0;31mValueError\u001b[0m                                Traceback (most recent call last)",
      "\u001b[0;32m<ipython-input-32-4ae05017927f>\u001b[0m in \u001b[0;36m<module>\u001b[0;34m\u001b[0m\n\u001b[1;32m      1\u001b[0m \u001b[0;31m#tqdm.tqdm.pandas()\u001b[0m\u001b[0;34m\u001b[0m\u001b[0;34m\u001b[0m\u001b[0;34m\u001b[0m\u001b[0m\n\u001b[1;32m      2\u001b[0m \u001b[0;31m#g = tweets_usa['location'].progress_apply(geolocator.geocode)\u001b[0m\u001b[0;34m\u001b[0m\u001b[0;34m\u001b[0m\u001b[0;34m\u001b[0m\u001b[0m\n\u001b[0;32m----> 3\u001b[0;31m \u001b[0mg\u001b[0m \u001b[0;34m=\u001b[0m \u001b[0mgeocoder\u001b[0m\u001b[0;34m.\u001b[0m\u001b[0mkomoot\u001b[0m\u001b[0;34m(\u001b[0m\u001b[0mtweets_usa\u001b[0m\u001b[0;34m[\u001b[0m\u001b[0;34m'location'\u001b[0m\u001b[0;34m]\u001b[0m\u001b[0;34m.\u001b[0m\u001b[0mto_list\u001b[0m\u001b[0;34m(\u001b[0m\u001b[0;34m)\u001b[0m\u001b[0;34m,\u001b[0m \u001b[0mmethod\u001b[0m \u001b[0;34m=\u001b[0m \u001b[0;34m'batch'\u001b[0m\u001b[0;34m)\u001b[0m\u001b[0;34m\u001b[0m\u001b[0;34m\u001b[0m\u001b[0m\n\u001b[0m",
      "\u001b[0;32m/opt/anaconda3/lib/python3.7/site-packages/geocoder/api.py\u001b[0m in \u001b[0;36mkomoot\u001b[0;34m(location, **kwargs)\u001b[0m\n\u001b[1;32m    303\u001b[0m     \u001b[0;34m:\u001b[0m\u001b[0mparam\u001b[0m\u001b[0;31m \u001b[0m\u001b[0;31m`\u001b[0m\u001b[0;31m`\u001b[0m\u001b[0mlocation\u001b[0m\u001b[0;31m`\u001b[0m\u001b[0;31m`\u001b[0m\u001b[0;34m:\u001b[0m \u001b[0mYour\u001b[0m \u001b[0msearch\u001b[0m \u001b[0mlocation\u001b[0m \u001b[0myou\u001b[0m \u001b[0mwant\u001b[0m \u001b[0mgeocoded\u001b[0m\u001b[0;34m.\u001b[0m\u001b[0;34m\u001b[0m\u001b[0;34m\u001b[0m\u001b[0m\n\u001b[1;32m    304\u001b[0m     \"\"\"\n\u001b[0;32m--> 305\u001b[0;31m     \u001b[0;32mreturn\u001b[0m \u001b[0mget\u001b[0m\u001b[0;34m(\u001b[0m\u001b[0mlocation\u001b[0m\u001b[0;34m,\u001b[0m \u001b[0mprovider\u001b[0m\u001b[0;34m=\u001b[0m\u001b[0;34m'komoot'\u001b[0m\u001b[0;34m,\u001b[0m \u001b[0;34m**\u001b[0m\u001b[0mkwargs\u001b[0m\u001b[0;34m)\u001b[0m\u001b[0;34m\u001b[0m\u001b[0;34m\u001b[0m\u001b[0m\n\u001b[0m\u001b[1;32m    306\u001b[0m \u001b[0;34m\u001b[0m\u001b[0m\n\u001b[1;32m    307\u001b[0m \u001b[0;34m\u001b[0m\u001b[0m\n",
      "\u001b[0;32m/opt/anaconda3/lib/python3.7/site-packages/geocoder/api.py\u001b[0m in \u001b[0;36mget\u001b[0;34m(location, **kwargs)\u001b[0m\n\u001b[1;32m    195\u001b[0m     \u001b[0;32melse\u001b[0m\u001b[0;34m:\u001b[0m\u001b[0;34m\u001b[0m\u001b[0;34m\u001b[0m\u001b[0m\n\u001b[1;32m    196\u001b[0m         \u001b[0;32mif\u001b[0m \u001b[0mmethod\u001b[0m \u001b[0;32mnot\u001b[0m \u001b[0;32min\u001b[0m \u001b[0moptions\u001b[0m\u001b[0;34m[\u001b[0m\u001b[0mprovider\u001b[0m\u001b[0;34m]\u001b[0m\u001b[0;34m:\u001b[0m\u001b[0;34m\u001b[0m\u001b[0;34m\u001b[0m\u001b[0m\n\u001b[0;32m--> 197\u001b[0;31m             \u001b[0;32mraise\u001b[0m \u001b[0mValueError\u001b[0m\u001b[0;34m(\u001b[0m\u001b[0;34m\"Invalid method\"\u001b[0m\u001b[0;34m)\u001b[0m\u001b[0;34m\u001b[0m\u001b[0;34m\u001b[0m\u001b[0m\n\u001b[0m\u001b[1;32m    198\u001b[0m     \u001b[0;32mreturn\u001b[0m \u001b[0moptions\u001b[0m\u001b[0;34m[\u001b[0m\u001b[0mprovider\u001b[0m\u001b[0;34m]\u001b[0m\u001b[0;34m[\u001b[0m\u001b[0mmethod\u001b[0m\u001b[0;34m]\u001b[0m\u001b[0;34m(\u001b[0m\u001b[0mlocation\u001b[0m\u001b[0;34m,\u001b[0m \u001b[0;34m**\u001b[0m\u001b[0mkwargs\u001b[0m\u001b[0;34m)\u001b[0m\u001b[0;34m\u001b[0m\u001b[0;34m\u001b[0m\u001b[0m\n\u001b[1;32m    199\u001b[0m \u001b[0;34m\u001b[0m\u001b[0m\n",
      "\u001b[0;31mValueError\u001b[0m: Invalid method"
     ]
    }
   ],
   "source": [
    "#tqdm.tqdm.pandas()\n",
    "#g = tweets_usa['location'].progress_apply(geolocator.geocode)\n",
    "g = geocoder.komoot(tweets_usa['location'].to_list())"
   ]
  },
  {
   "cell_type": "code",
   "execution_count": 28,
   "metadata": {},
   "outputs": [
    {
     "name": "stderr",
     "output_type": "stream",
     "text": [
      "\n",
      "\n",
      "\n",
      "\n",
      "\n",
      "\n",
      "\n",
      "\n",
      "\n",
      "  0%|          | 0/244 [00:00<?, ?it/s]\u001b[A\u001b[A\u001b[A\u001b[A\u001b[A\u001b[A\u001b[A\u001b[A\u001b[A\n",
      "\n",
      "\n",
      "\n",
      "\n",
      "\n",
      "\n",
      "\n",
      "\n",
      "  1%|          | 2/244 [00:00<00:39,  6.10it/s]\u001b[A\u001b[A\u001b[A\u001b[A\u001b[A\u001b[A\u001b[A\u001b[A\u001b[A\n",
      "\n",
      "\n",
      "\n",
      "\n",
      "\n",
      "\n",
      "\n",
      "\n",
      "  1%|          | 2/244 [00:00<00:56,  4.25it/s]\u001b[A\u001b[A\u001b[A\u001b[A\u001b[A\u001b[A\u001b[A\u001b[A\u001b[A\n",
      "\n",
      "\n",
      "\n",
      "\n",
      "\n",
      "\n",
      "\n",
      "\n",
      "  1%|          | 3/244 [00:00<00:47,  5.03it/s]\u001b[A\u001b[A\u001b[A\u001b[A\u001b[A\u001b[A\u001b[A\u001b[A\u001b[A\n",
      "\n",
      "\n",
      "\n",
      "\n",
      "\n",
      "\n",
      "\n",
      "\n",
      "  1%|          | 3/244 [00:00<01:00,  4.01it/s]\u001b[A\u001b[A\u001b[A\u001b[A\u001b[A\u001b[A\u001b[A\u001b[A\u001b[A\n",
      "\n",
      "\n",
      "\n",
      "\n",
      "\n",
      "\n",
      "\n",
      "\n",
      "  2%|▏         | 4/244 [00:00<00:53,  4.45it/s]\u001b[A\u001b[A\u001b[A\u001b[A\u001b[A\u001b[A\u001b[A\u001b[A\u001b[A\n",
      "\n",
      "\n",
      "\n",
      "\n",
      "\n",
      "\n",
      "\n",
      "\n",
      "  2%|▏         | 4/244 [00:01<01:02,  3.83it/s]\u001b[A\u001b[A\u001b[A\u001b[A\u001b[A\u001b[A\u001b[A\u001b[A\u001b[A\n",
      "\n",
      "\n",
      "\n",
      "\n",
      "\n",
      "\n",
      "\n",
      "\n",
      "  2%|▏         | 5/244 [00:01<00:58,  4.10it/s]\u001b[A\u001b[A\u001b[A\u001b[A\u001b[A\u001b[A\u001b[A\u001b[A\u001b[A\n",
      "\n",
      "\n",
      "\n",
      "\n",
      "\n",
      "\n",
      "\n",
      "\n",
      "  2%|▏         | 5/244 [00:01<01:03,  3.75it/s]\u001b[A\u001b[A\u001b[A\u001b[A\u001b[A\u001b[A\u001b[A\u001b[A\u001b[A\n",
      "\n",
      "\n",
      "\n",
      "\n",
      "\n",
      "\n",
      "\n",
      "\n",
      "  2%|▏         | 6/244 [00:01<01:01,  3.88it/s]\u001b[A\u001b[A\u001b[A\u001b[A\u001b[A\u001b[A\u001b[A\u001b[A\u001b[A\n",
      "\n",
      "\n",
      "\n",
      "\n",
      "\n",
      "\n",
      "\n",
      "\n",
      "  2%|▏         | 6/244 [00:01<01:06,  3.60it/s]\u001b[A\u001b[A\u001b[A\u001b[A\u001b[A\u001b[A\u001b[A\u001b[A\u001b[A\n",
      "\n",
      "\n",
      "\n",
      "\n",
      "\n",
      "\n",
      "\n",
      "\n",
      "  3%|▎         | 7/244 [00:01<01:02,  3.77it/s]\u001b[A\u001b[A\u001b[A\u001b[A\u001b[A\u001b[A\u001b[A\u001b[A\u001b[A\n",
      "\n",
      "\n",
      "\n",
      "\n",
      "\n",
      "\n",
      "\n",
      "\n",
      "  3%|▎         | 7/244 [00:01<01:05,  3.64it/s]\u001b[A\u001b[A\u001b[A\u001b[A\u001b[A\u001b[A\u001b[A\u001b[A\u001b[A\n",
      "\n",
      "\n",
      "\n",
      "\n",
      "\n",
      "\n",
      "\n",
      "\n",
      "  3%|▎         | 8/244 [00:02<01:04,  3.68it/s]\u001b[A\u001b[A\u001b[A\u001b[A\u001b[A\u001b[A\u001b[A\u001b[A\u001b[A\n",
      "\n",
      "\n",
      "\n",
      "\n",
      "\n",
      "\n",
      "\n",
      "\n",
      "  3%|▎         | 8/244 [00:02<01:06,  3.57it/s]\u001b[A\u001b[A\u001b[A\u001b[A\u001b[A\u001b[A\u001b[A\u001b[A\u001b[A\n",
      "\n",
      "\n",
      "\n",
      "\n",
      "\n",
      "\n",
      "\n",
      "\n",
      "  4%|▎         | 9/244 [00:02<01:04,  3.64it/s]\u001b[A\u001b[A\u001b[A\u001b[A\u001b[A\u001b[A\u001b[A\u001b[A\u001b[A\n",
      "\n",
      "\n",
      "\n",
      "\n",
      "\n",
      "\n",
      "\n",
      "\n",
      "  4%|▎         | 9/244 [00:02<01:06,  3.55it/s]\u001b[A\u001b[A\u001b[A\u001b[A\u001b[A\u001b[A\u001b[A\u001b[A\u001b[A\n",
      "\n",
      "\n",
      "\n",
      "\n",
      "\n",
      "\n",
      "\n",
      "\n",
      "  4%|▍         | 10/244 [00:02<01:04,  3.61it/s]\u001b[A\u001b[A\u001b[A\u001b[A\u001b[A\u001b[A\u001b[A\u001b[A\u001b[A\n",
      "\n",
      "\n",
      "\n",
      "\n",
      "\n",
      "\n",
      "\n",
      "\n",
      "  4%|▍         | 10/244 [00:02<01:12,  3.23it/s]\u001b[A\u001b[A\u001b[A\u001b[A\u001b[A\u001b[A\u001b[A\u001b[A\u001b[A"
     ]
    }
   ],
   "source": [
    "import geocoder\n",
    "import tqdm\n",
    "from geopy.geocoders import ArcGIS\n",
    "#geolocator = OpenMapQuest(api_key = 'p047o1tyzswK5IDBKurrrcbB712eGS1f', timeout = 10)\n",
    "#geolocator = ArcGIS(timeout = 3)\n",
    "pbar = tqdm.tqdm(total=len(tweets_usa['location']))\n",
    "\n",
    "import multiprocessing\n",
    "\n",
    "addresses = tweets_usa['location']\n",
    "addresses = addresses[0:20]\n",
    "\n",
    "def geocode_worker(address):\n",
    "#    print(address)\n",
    "    pbar.update(1)\n",
    "    return geocoder.komoot(address).latlng\n",
    "#    return geolocator.geocode(address)\n",
    "\n",
    "\n",
    "def main_process():\n",
    "    pool = multiprocessing.Pool(processes=multiprocessing.cpu_count() - 1)\n",
    "    return pool.map(geocode_worker, addresses, chunksize = 10)\n",
    "\n",
    "if __name__ == '__main__':\n",
    "    g = main_process()\n",
    "\n"
   ]
  },
  {
   "cell_type": "code",
   "execution_count": 25,
   "metadata": {},
   "outputs": [
    {
     "data": {
      "text/plain": [
       "[[30.284151, -97.73195598080218],\n",
       " [32.3163966, -111.0448428],\n",
       " [40.4561987, -74.4004402],\n",
       " [33.2091166, -96.7306516],\n",
       " [42.3602534, -71.0582912],\n",
       " [40.72925325, -73.99625393609625],\n",
       " [36.1445, -113.110927],\n",
       " [38.8948932, -77.0365529],\n",
       " [36.101795, -114.9370274],\n",
       " [31.8160381, -99.5120986],\n",
       " [40.712742950000006, -74.00595024412516],\n",
       " [39.174625, -84.2958988],\n",
       " [30.4079122, -98.1056265],\n",
       " [46.4656916, -119.3255748],\n",
       " [38.4404925, -122.7141049],\n",
       " [43.06922635, -76.17248945485272],\n",
       " [33.7910822, -84.37322951720375],\n",
       " None,\n",
       " [36.7014631, -118.7559974],\n",
       " [38.9409821, -94.6054383]]"
      ]
     },
     "execution_count": 25,
     "metadata": {},
     "output_type": "execute_result"
    }
   ],
   "source": [
    "g"
   ]
  },
  {
   "cell_type": "code",
   "execution_count": 17,
   "metadata": {},
   "outputs": [
    {
     "data": {
      "text/plain": [
       "'New York'"
      ]
     },
     "execution_count": 17,
     "metadata": {},
     "output_type": "execute_result"
    }
   ],
   "source": [
    "import geocoder\n",
    "geocoder.komoot('New York City, NY').state\n"
   ]
  },
  {
   "cell_type": "code",
   "execution_count": 11,
   "metadata": {},
   "outputs": [
    {
     "ename": "OSError",
     "evalue": "[Errno 24] Too many open files",
     "output_type": "error",
     "traceback": [
      "\u001b[0;31m---------------------------------------------------------------------------\u001b[0m",
      "\u001b[0;31mOSError\u001b[0m                                   Traceback (most recent call last)",
      "\u001b[0;32m<ipython-input-11-beb1b0a2bb14>\u001b[0m in \u001b[0;36m<module>\u001b[0;34m\u001b[0m\n\u001b[1;32m     12\u001b[0m         \u001b[0mp\u001b[0m \u001b[0;34m=\u001b[0m \u001b[0mmultiprocessing\u001b[0m\u001b[0;34m.\u001b[0m\u001b[0mProcess\u001b[0m\u001b[0;34m(\u001b[0m\u001b[0mtarget\u001b[0m\u001b[0;34m=\u001b[0m\u001b[0mworker\u001b[0m\u001b[0;34m,\u001b[0m \u001b[0margs\u001b[0m\u001b[0;34m=\u001b[0m\u001b[0;34m(\u001b[0m\u001b[0mi\u001b[0m\u001b[0;34m,\u001b[0m\u001b[0;34m)\u001b[0m\u001b[0;34m)\u001b[0m\u001b[0;34m\u001b[0m\u001b[0;34m\u001b[0m\u001b[0m\n\u001b[1;32m     13\u001b[0m         \u001b[0mjobs\u001b[0m\u001b[0;34m.\u001b[0m\u001b[0mappend\u001b[0m\u001b[0;34m(\u001b[0m\u001b[0mp\u001b[0m\u001b[0;34m)\u001b[0m\u001b[0;34m\u001b[0m\u001b[0;34m\u001b[0m\u001b[0m\n\u001b[0;32m---> 14\u001b[0;31m         \u001b[0mp\u001b[0m\u001b[0;34m.\u001b[0m\u001b[0mstart\u001b[0m\u001b[0;34m(\u001b[0m\u001b[0;34m)\u001b[0m\u001b[0;34m\u001b[0m\u001b[0;34m\u001b[0m\u001b[0m\n\u001b[0m",
      "\u001b[0;32m/opt/anaconda3/lib/python3.7/multiprocessing/process.py\u001b[0m in \u001b[0;36mstart\u001b[0;34m(self)\u001b[0m\n\u001b[1;32m    110\u001b[0m                \u001b[0;34m'daemonic processes are not allowed to have children'\u001b[0m\u001b[0;34m\u001b[0m\u001b[0;34m\u001b[0m\u001b[0m\n\u001b[1;32m    111\u001b[0m         \u001b[0m_cleanup\u001b[0m\u001b[0;34m(\u001b[0m\u001b[0;34m)\u001b[0m\u001b[0;34m\u001b[0m\u001b[0;34m\u001b[0m\u001b[0m\n\u001b[0;32m--> 112\u001b[0;31m         \u001b[0mself\u001b[0m\u001b[0;34m.\u001b[0m\u001b[0m_popen\u001b[0m \u001b[0;34m=\u001b[0m \u001b[0mself\u001b[0m\u001b[0;34m.\u001b[0m\u001b[0m_Popen\u001b[0m\u001b[0;34m(\u001b[0m\u001b[0mself\u001b[0m\u001b[0;34m)\u001b[0m\u001b[0;34m\u001b[0m\u001b[0;34m\u001b[0m\u001b[0m\n\u001b[0m\u001b[1;32m    113\u001b[0m         \u001b[0mself\u001b[0m\u001b[0;34m.\u001b[0m\u001b[0m_sentinel\u001b[0m \u001b[0;34m=\u001b[0m \u001b[0mself\u001b[0m\u001b[0;34m.\u001b[0m\u001b[0m_popen\u001b[0m\u001b[0;34m.\u001b[0m\u001b[0msentinel\u001b[0m\u001b[0;34m\u001b[0m\u001b[0;34m\u001b[0m\u001b[0m\n\u001b[1;32m    114\u001b[0m         \u001b[0;31m# Avoid a refcycle if the target function holds an indirect\u001b[0m\u001b[0;34m\u001b[0m\u001b[0;34m\u001b[0m\u001b[0;34m\u001b[0m\u001b[0m\n",
      "\u001b[0;32m/opt/anaconda3/lib/python3.7/multiprocessing/context.py\u001b[0m in \u001b[0;36m_Popen\u001b[0;34m(process_obj)\u001b[0m\n\u001b[1;32m    221\u001b[0m     \u001b[0;34m@\u001b[0m\u001b[0mstaticmethod\u001b[0m\u001b[0;34m\u001b[0m\u001b[0;34m\u001b[0m\u001b[0m\n\u001b[1;32m    222\u001b[0m     \u001b[0;32mdef\u001b[0m \u001b[0m_Popen\u001b[0m\u001b[0;34m(\u001b[0m\u001b[0mprocess_obj\u001b[0m\u001b[0;34m)\u001b[0m\u001b[0;34m:\u001b[0m\u001b[0;34m\u001b[0m\u001b[0;34m\u001b[0m\u001b[0m\n\u001b[0;32m--> 223\u001b[0;31m         \u001b[0;32mreturn\u001b[0m \u001b[0m_default_context\u001b[0m\u001b[0;34m.\u001b[0m\u001b[0mget_context\u001b[0m\u001b[0;34m(\u001b[0m\u001b[0;34m)\u001b[0m\u001b[0;34m.\u001b[0m\u001b[0mProcess\u001b[0m\u001b[0;34m.\u001b[0m\u001b[0m_Popen\u001b[0m\u001b[0;34m(\u001b[0m\u001b[0mprocess_obj\u001b[0m\u001b[0;34m)\u001b[0m\u001b[0;34m\u001b[0m\u001b[0;34m\u001b[0m\u001b[0m\n\u001b[0m\u001b[1;32m    224\u001b[0m \u001b[0;34m\u001b[0m\u001b[0m\n\u001b[1;32m    225\u001b[0m \u001b[0;32mclass\u001b[0m \u001b[0mDefaultContext\u001b[0m\u001b[0;34m(\u001b[0m\u001b[0mBaseContext\u001b[0m\u001b[0;34m)\u001b[0m\u001b[0;34m:\u001b[0m\u001b[0;34m\u001b[0m\u001b[0;34m\u001b[0m\u001b[0m\n",
      "\u001b[0;32m/opt/anaconda3/lib/python3.7/multiprocessing/context.py\u001b[0m in \u001b[0;36m_Popen\u001b[0;34m(process_obj)\u001b[0m\n\u001b[1;32m    275\u001b[0m         \u001b[0;32mdef\u001b[0m \u001b[0m_Popen\u001b[0m\u001b[0;34m(\u001b[0m\u001b[0mprocess_obj\u001b[0m\u001b[0;34m)\u001b[0m\u001b[0;34m:\u001b[0m\u001b[0;34m\u001b[0m\u001b[0;34m\u001b[0m\u001b[0m\n\u001b[1;32m    276\u001b[0m             \u001b[0;32mfrom\u001b[0m \u001b[0;34m.\u001b[0m\u001b[0mpopen_fork\u001b[0m \u001b[0;32mimport\u001b[0m \u001b[0mPopen\u001b[0m\u001b[0;34m\u001b[0m\u001b[0;34m\u001b[0m\u001b[0m\n\u001b[0;32m--> 277\u001b[0;31m             \u001b[0;32mreturn\u001b[0m \u001b[0mPopen\u001b[0m\u001b[0;34m(\u001b[0m\u001b[0mprocess_obj\u001b[0m\u001b[0;34m)\u001b[0m\u001b[0;34m\u001b[0m\u001b[0;34m\u001b[0m\u001b[0m\n\u001b[0m\u001b[1;32m    278\u001b[0m \u001b[0;34m\u001b[0m\u001b[0m\n\u001b[1;32m    279\u001b[0m     \u001b[0;32mclass\u001b[0m \u001b[0mSpawnProcess\u001b[0m\u001b[0;34m(\u001b[0m\u001b[0mprocess\u001b[0m\u001b[0;34m.\u001b[0m\u001b[0mBaseProcess\u001b[0m\u001b[0;34m)\u001b[0m\u001b[0;34m:\u001b[0m\u001b[0;34m\u001b[0m\u001b[0;34m\u001b[0m\u001b[0m\n",
      "\u001b[0;32m/opt/anaconda3/lib/python3.7/multiprocessing/popen_fork.py\u001b[0m in \u001b[0;36m__init__\u001b[0;34m(self, process_obj)\u001b[0m\n\u001b[1;32m     18\u001b[0m         \u001b[0mself\u001b[0m\u001b[0;34m.\u001b[0m\u001b[0mreturncode\u001b[0m \u001b[0;34m=\u001b[0m \u001b[0;32mNone\u001b[0m\u001b[0;34m\u001b[0m\u001b[0;34m\u001b[0m\u001b[0m\n\u001b[1;32m     19\u001b[0m         \u001b[0mself\u001b[0m\u001b[0;34m.\u001b[0m\u001b[0mfinalizer\u001b[0m \u001b[0;34m=\u001b[0m \u001b[0;32mNone\u001b[0m\u001b[0;34m\u001b[0m\u001b[0;34m\u001b[0m\u001b[0m\n\u001b[0;32m---> 20\u001b[0;31m         \u001b[0mself\u001b[0m\u001b[0;34m.\u001b[0m\u001b[0m_launch\u001b[0m\u001b[0;34m(\u001b[0m\u001b[0mprocess_obj\u001b[0m\u001b[0;34m)\u001b[0m\u001b[0;34m\u001b[0m\u001b[0;34m\u001b[0m\u001b[0m\n\u001b[0m\u001b[1;32m     21\u001b[0m \u001b[0;34m\u001b[0m\u001b[0m\n\u001b[1;32m     22\u001b[0m     \u001b[0;32mdef\u001b[0m \u001b[0mduplicate_for_child\u001b[0m\u001b[0;34m(\u001b[0m\u001b[0mself\u001b[0m\u001b[0;34m,\u001b[0m \u001b[0mfd\u001b[0m\u001b[0;34m)\u001b[0m\u001b[0;34m:\u001b[0m\u001b[0;34m\u001b[0m\u001b[0;34m\u001b[0m\u001b[0m\n",
      "\u001b[0;32m/opt/anaconda3/lib/python3.7/multiprocessing/popen_fork.py\u001b[0m in \u001b[0;36m_launch\u001b[0;34m(self, process_obj)\u001b[0m\n\u001b[1;32m     67\u001b[0m     \u001b[0;32mdef\u001b[0m \u001b[0m_launch\u001b[0m\u001b[0;34m(\u001b[0m\u001b[0mself\u001b[0m\u001b[0;34m,\u001b[0m \u001b[0mprocess_obj\u001b[0m\u001b[0;34m)\u001b[0m\u001b[0;34m:\u001b[0m\u001b[0;34m\u001b[0m\u001b[0;34m\u001b[0m\u001b[0m\n\u001b[1;32m     68\u001b[0m         \u001b[0mcode\u001b[0m \u001b[0;34m=\u001b[0m \u001b[0;36m1\u001b[0m\u001b[0;34m\u001b[0m\u001b[0;34m\u001b[0m\u001b[0m\n\u001b[0;32m---> 69\u001b[0;31m         \u001b[0mparent_r\u001b[0m\u001b[0;34m,\u001b[0m \u001b[0mchild_w\u001b[0m \u001b[0;34m=\u001b[0m \u001b[0mos\u001b[0m\u001b[0;34m.\u001b[0m\u001b[0mpipe\u001b[0m\u001b[0;34m(\u001b[0m\u001b[0;34m)\u001b[0m\u001b[0;34m\u001b[0m\u001b[0;34m\u001b[0m\u001b[0m\n\u001b[0m\u001b[1;32m     70\u001b[0m         \u001b[0mself\u001b[0m\u001b[0;34m.\u001b[0m\u001b[0mpid\u001b[0m \u001b[0;34m=\u001b[0m \u001b[0mos\u001b[0m\u001b[0;34m.\u001b[0m\u001b[0mfork\u001b[0m\u001b[0;34m(\u001b[0m\u001b[0;34m)\u001b[0m\u001b[0;34m\u001b[0m\u001b[0;34m\u001b[0m\u001b[0m\n\u001b[1;32m     71\u001b[0m         \u001b[0;32mif\u001b[0m \u001b[0mself\u001b[0m\u001b[0;34m.\u001b[0m\u001b[0mpid\u001b[0m \u001b[0;34m==\u001b[0m \u001b[0;36m0\u001b[0m\u001b[0;34m:\u001b[0m\u001b[0;34m\u001b[0m\u001b[0;34m\u001b[0m\u001b[0m\n",
      "\u001b[0;31mOSError\u001b[0m: [Errno 24] Too many open files"
     ]
    }
   ],
   "source": [
    "import multiprocessing\n",
    "import geocoder\n",
    "\n",
    "addresses = tweets_usa['location']\n",
    "\n",
    "def worker(address):\n",
    "    return geocoder.arcgis(address)\n",
    "\n",
    "if __name__ == '__main__':\n",
    "    jobs = []\n",
    "    for i in range(len(addresses)):\n",
    "        p = multiprocessing.Process(target=worker, args=(i,))\n",
    "        jobs.append(p)\n",
    "        p.start()"
   ]
  },
  {
   "cell_type": "code",
   "execution_count": 12,
   "metadata": {},
   "outputs": [
    {
     "data": {
      "text/plain": [
       "[<Process(Process-386, stopped[SIGSEGV])>,\n",
       " <Process(Process-387, stopped[SIGSEGV])>,\n",
       " <Process(Process-388, stopped[SIGSEGV])>,\n",
       " <Process(Process-389, stopped[SIGSEGV])>,\n",
       " <Process(Process-390, stopped[SIGSEGV])>,\n",
       " <Process(Process-391, stopped[SIGSEGV])>,\n",
       " <Process(Process-392, stopped[SIGSEGV])>,\n",
       " <Process(Process-393, stopped[SIGSEGV])>,\n",
       " <Process(Process-394, stopped[SIGSEGV])>,\n",
       " <Process(Process-395, stopped[SIGSEGV])>,\n",
       " <Process(Process-396, stopped[SIGSEGV])>,\n",
       " <Process(Process-397, stopped[SIGSEGV])>,\n",
       " <Process(Process-398, stopped[SIGSEGV])>,\n",
       " <Process(Process-399, stopped[SIGSEGV])>,\n",
       " <Process(Process-400, stopped[SIGSEGV])>,\n",
       " <Process(Process-401, stopped[SIGSEGV])>,\n",
       " <Process(Process-402, stopped[SIGSEGV])>,\n",
       " <Process(Process-403, stopped[SIGSEGV])>,\n",
       " <Process(Process-404, stopped[SIGSEGV])>,\n",
       " <Process(Process-405, stopped[SIGSEGV])>,\n",
       " <Process(Process-406, stopped[SIGSEGV])>,\n",
       " <Process(Process-407, stopped[SIGSEGV])>,\n",
       " <Process(Process-408, stopped[SIGSEGV])>,\n",
       " <Process(Process-409, stopped[SIGSEGV])>,\n",
       " <Process(Process-410, stopped[SIGSEGV])>,\n",
       " <Process(Process-411, stopped[SIGSEGV])>,\n",
       " <Process(Process-412, stopped[SIGSEGV])>,\n",
       " <Process(Process-413, stopped[SIGSEGV])>,\n",
       " <Process(Process-414, stopped[SIGSEGV])>,\n",
       " <Process(Process-415, stopped[SIGSEGV])>,\n",
       " <Process(Process-416, stopped[SIGSEGV])>,\n",
       " <Process(Process-417, stopped[SIGSEGV])>,\n",
       " <Process(Process-418, stopped[SIGSEGV])>,\n",
       " <Process(Process-419, stopped[SIGSEGV])>,\n",
       " <Process(Process-420, stopped[SIGSEGV])>,\n",
       " <Process(Process-421, stopped[SIGSEGV])>,\n",
       " <Process(Process-422, stopped[SIGSEGV])>,\n",
       " <Process(Process-423, stopped[SIGSEGV])>,\n",
       " <Process(Process-424, stopped[SIGSEGV])>,\n",
       " <Process(Process-425, stopped[SIGSEGV])>,\n",
       " <Process(Process-426, stopped[SIGSEGV])>,\n",
       " <Process(Process-427, stopped[SIGSEGV])>,\n",
       " <Process(Process-428, stopped[SIGSEGV])>,\n",
       " <Process(Process-429, stopped[SIGSEGV])>,\n",
       " <Process(Process-430, stopped[SIGSEGV])>,\n",
       " <Process(Process-431, stopped[SIGSEGV])>,\n",
       " <Process(Process-432, stopped[SIGSEGV])>,\n",
       " <Process(Process-433, stopped[SIGSEGV])>,\n",
       " <Process(Process-434, stopped[SIGSEGV])>,\n",
       " <Process(Process-435, stopped[SIGSEGV])>,\n",
       " <Process(Process-436, stopped[SIGSEGV])>,\n",
       " <Process(Process-437, stopped[SIGSEGV])>,\n",
       " <Process(Process-438, stopped[SIGSEGV])>,\n",
       " <Process(Process-439, stopped[SIGSEGV])>,\n",
       " <Process(Process-440, stopped[SIGSEGV])>,\n",
       " <Process(Process-441, stopped[SIGSEGV])>,\n",
       " <Process(Process-442, stopped[SIGSEGV])>,\n",
       " <Process(Process-443, stopped[SIGSEGV])>,\n",
       " <Process(Process-444, stopped[SIGSEGV])>,\n",
       " <Process(Process-445, stopped[SIGSEGV])>,\n",
       " <Process(Process-446, stopped[SIGSEGV])>,\n",
       " <Process(Process-447, stopped[SIGSEGV])>,\n",
       " <Process(Process-448, stopped[SIGSEGV])>,\n",
       " <Process(Process-449, stopped[SIGSEGV])>,\n",
       " <Process(Process-450, stopped[SIGSEGV])>,\n",
       " <Process(Process-451, stopped[SIGSEGV])>,\n",
       " <Process(Process-452, stopped[SIGSEGV])>,\n",
       " <Process(Process-453, stopped[SIGSEGV])>,\n",
       " <Process(Process-454, stopped[SIGSEGV])>,\n",
       " <Process(Process-455, stopped[SIGSEGV])>,\n",
       " <Process(Process-456, stopped[SIGSEGV])>,\n",
       " <Process(Process-457, stopped[SIGSEGV])>,\n",
       " <Process(Process-458, stopped[SIGSEGV])>,\n",
       " <Process(Process-459, stopped[SIGSEGV])>,\n",
       " <Process(Process-460, stopped[SIGSEGV])>,\n",
       " <Process(Process-461, stopped[SIGSEGV])>,\n",
       " <Process(Process-462, stopped[SIGSEGV])>,\n",
       " <Process(Process-463, stopped[SIGSEGV])>,\n",
       " <Process(Process-464, stopped[SIGSEGV])>,\n",
       " <Process(Process-465, stopped[SIGSEGV])>,\n",
       " <Process(Process-466, stopped[SIGSEGV])>,\n",
       " <Process(Process-467, stopped[SIGSEGV])>,\n",
       " <Process(Process-468, stopped[SIGSEGV])>,\n",
       " <Process(Process-469, stopped[SIGSEGV])>,\n",
       " <Process(Process-470, stopped[SIGSEGV])>,\n",
       " <Process(Process-471, stopped[SIGSEGV])>,\n",
       " <Process(Process-472, stopped[SIGSEGV])>,\n",
       " <Process(Process-473, stopped[SIGSEGV])>,\n",
       " <Process(Process-474, stopped[SIGSEGV])>,\n",
       " <Process(Process-475, stopped[SIGSEGV])>,\n",
       " <Process(Process-476, stopped[SIGSEGV])>,\n",
       " <Process(Process-477, stopped[SIGSEGV])>,\n",
       " <Process(Process-478, stopped[SIGSEGV])>,\n",
       " <Process(Process-479, stopped[SIGSEGV])>,\n",
       " <Process(Process-480, stopped[SIGSEGV])>,\n",
       " <Process(Process-481, stopped[SIGSEGV])>,\n",
       " <Process(Process-482, stopped[SIGSEGV])>,\n",
       " <Process(Process-483, stopped[SIGSEGV])>,\n",
       " <Process(Process-484, stopped[SIGSEGV])>,\n",
       " <Process(Process-485, stopped[SIGSEGV])>,\n",
       " <Process(Process-486, stopped[SIGSEGV])>,\n",
       " <Process(Process-487, stopped[SIGSEGV])>,\n",
       " <Process(Process-488, stopped[SIGSEGV])>,\n",
       " <Process(Process-489, stopped[SIGSEGV])>,\n",
       " <Process(Process-490, stopped[SIGSEGV])>,\n",
       " <Process(Process-491, stopped[SIGSEGV])>,\n",
       " <Process(Process-492, stopped[SIGSEGV])>,\n",
       " <Process(Process-493, stopped[SIGSEGV])>,\n",
       " <Process(Process-494, stopped[SIGSEGV])>,\n",
       " <Process(Process-495, stopped[SIGSEGV])>,\n",
       " <Process(Process-496, stopped[SIGSEGV])>,\n",
       " <Process(Process-497, stopped[SIGSEGV])>,\n",
       " <Process(Process-498, stopped[SIGSEGV])>,\n",
       " <Process(Process-499, stopped[SIGSEGV])>,\n",
       " <Process(Process-500, stopped[SIGSEGV])>,\n",
       " <Process(Process-501, stopped[SIGSEGV])>,\n",
       " <Process(Process-502, stopped[SIGSEGV])>,\n",
       " <Process(Process-503, stopped[SIGSEGV])>,\n",
       " <Process(Process-504, stopped[SIGSEGV])>,\n",
       " <Process(Process-505, stopped[SIGSEGV])>,\n",
       " <Process(Process-506, stopped[SIGSEGV])>,\n",
       " <Process(Process-507, stopped[SIGSEGV])>,\n",
       " <Process(Process-508, stopped[SIGSEGV])>,\n",
       " <Process(Process-509, stopped[SIGSEGV])>,\n",
       " <Process(Process-510, stopped[SIGSEGV])>,\n",
       " <Process(Process-511, stopped[SIGSEGV])>,\n",
       " <Process(Process-512, stopped[SIGSEGV])>,\n",
       " <Process(Process-513, stopped[SIGSEGV])>,\n",
       " <Process(Process-514, stopped[SIGSEGV])>,\n",
       " <Process(Process-515, stopped[SIGSEGV])>,\n",
       " <Process(Process-516, stopped[SIGSEGV])>,\n",
       " <Process(Process-517, stopped[SIGSEGV])>,\n",
       " <Process(Process-518, stopped[SIGSEGV])>,\n",
       " <Process(Process-519, stopped[SIGSEGV])>,\n",
       " <Process(Process-520, stopped[SIGSEGV])>,\n",
       " <Process(Process-521, stopped[SIGSEGV])>,\n",
       " <Process(Process-522, stopped[SIGSEGV])>,\n",
       " <Process(Process-523, stopped[SIGSEGV])>,\n",
       " <Process(Process-524, stopped[SIGSEGV])>,\n",
       " <Process(Process-525, stopped[SIGSEGV])>,\n",
       " <Process(Process-526, stopped[SIGSEGV])>,\n",
       " <Process(Process-527, stopped[SIGSEGV])>,\n",
       " <Process(Process-528, stopped[SIGSEGV])>,\n",
       " <Process(Process-529, stopped[SIGSEGV])>,\n",
       " <Process(Process-530, stopped[SIGSEGV])>,\n",
       " <Process(Process-531, stopped[SIGSEGV])>,\n",
       " <Process(Process-532, stopped[SIGSEGV])>,\n",
       " <Process(Process-533, stopped[SIGSEGV])>,\n",
       " <Process(Process-534, stopped[SIGSEGV])>,\n",
       " <Process(Process-535, stopped[SIGSEGV])>,\n",
       " <Process(Process-536, stopped[SIGSEGV])>,\n",
       " <Process(Process-537, initial)>]"
      ]
     },
     "execution_count": 12,
     "metadata": {},
     "output_type": "execute_result"
    }
   ],
   "source": [
    "jobs"
   ]
  },
  {
   "cell_type": "code",
   "execution_count": 83,
   "metadata": {},
   "outputs": [
    {
     "data": {
      "text/plain": [
       "0              Austin Texas\n",
       "1                Tucson, AZ\n",
       "2        East Brunswick, NJ\n",
       "3            San Marcos, TX\n",
       "4                Boston, MA\n",
       "               ...         \n",
       "156    Oakbrook Terrace, IL\n",
       "157               Cleveland\n",
       "158         Intercourse, PA\n",
       "159        Washington, D.C.\n",
       "160             Atlanta, GA\n",
       "Name: location, Length: 161, dtype: object"
      ]
     },
     "execution_count": 83,
     "metadata": {},
     "output_type": "execute_result"
    }
   ],
   "source": [
    "addresses"
   ]
  },
  {
   "cell_type": "code",
   "execution_count": 62,
   "metadata": {},
   "outputs": [
    {
     "name": "stdout",
     "output_type": "stream",
     "text": [
      "reading tweets from 2020-01-04.jsonl.gz\n",
      "reading tweets from 2020-01-06.jsonl.gz\n",
      "reading tweets from 2020-01-08.jsonl.gz\n",
      "reading tweets from 2020-01-09.jsonl.gz\n",
      "reading tweets from 2020-01-10.jsonl.gz\n",
      "reading tweets from 2020-01-11.jsonl.gz\n",
      "reading tweets from 2020-01-12.jsonl.gz\n",
      "reading tweets from 2020-01-13.jsonl.gz\n",
      "reading tweets from 2020-01-17.jsonl.gz\n",
      "reading tweets from 2020-01-18.jsonl.gz\n",
      "reading tweets from 2020-01-19.jsonl.gz\n",
      "reading tweets from 2020-01-20.jsonl.gz\n",
      "reading tweets from 2020-01-21.jsonl.gz\n",
      "reading tweets from 2020-01-22.jsonl.gz\n",
      "reading tweets from 2020-01-23.jsonl.gz\n",
      "reading tweets from 2020-01-24.jsonl.gz\n"
     ]
    }
   ],
   "source": [
    "### Interrupted time series, take top users, collect all of their tweets, look at change in emotion/sentiment/topic\n",
    "# Prep\n",
    "\n",
    "filedir = 'panacealab-data/hydrated/all_english/moved_to_server/'\n",
    "filelist = sorted(glob.glob(filedir + '*gz'))\n",
    "\n",
    "\n",
    "tweets = pd.DataFrame(columns = ['created_at','id','full_text','retweet_count','favorite_count',\n",
    "    'screen_name','id','location','followers_count','created_at','statuses_count'])\n",
    "    \n",
    "# pull relevant information, save to df\n",
    "for file in filelist[0:15]:\n",
    "    json_name = file.split('server/')[1]\n",
    "    print('reading tweets from ' + json_name)\n",
    "    tweets_json = pd.read_json(file, lines = True)\n",
    "    tweets_relevant = tweets_json[['created_at','id','full_text','retweet_count','favorite_count']]\n",
    "    tweets_relevant = pd.concat([tweets_relevant, pd.DataFrame(tweets_json['user'].to_list())[['screen_name','id','location',\n",
    "        'followers_count','created_at','statuses_count']]], axis = 1)\n",
    "    tweets = tweets.append(tweets_relevant, ignore_index = True)    \n",
    "tweets.columns.values[9] = 'user_created_at'\n",
    "tweets.columns.values[6] = 'user_id'\n",
    "tweets = tweets.drop_duplicates(subset = 'full_text', keep = False) # remove duplicates\n",
    "tweets = tweets[tweets['full_text'].str.contains('coronavirus|covid|corona virus', case = False)] #only coronavirus, corona virus or covid\n",
    "tweets = tweets[~tweets['favorite_count'].isna()].reset_index(drop = True) # get rid of junk\n",
    "\n",
    "\n",
    "hydration_date = tweets['created_at'].apply(filetime_conv)\n",
    "tweets['user_created_at'] = pd.to_datetime(tweets['user_created_at'])\n",
    "tweets['daily_tweet_rate'] = tweets['statuses_count']/(hydration_date.dt.date - tweets['user_created_at'].dt.date).dt.days\n",
    "tweets = tweets[tweets['daily_tweet_rate'] < 100]. reset_index(drop = True)\n",
    "\n",
    "\n",
    "tweets_unique_users = tweets.drop_duplicates(subset = 'screen_name').reset_index(drop = True)\n",
    "selected_users = tweets_unique_users['screen_name'].sample(n = 30, random_state = 0).to_list()\n",
    "tweets_selected_users = tweets_unique_users[tweets_unique_users['screen_name'].isin(selected_users)].reset_index(drop = True)\n",
    "\n",
    "selected_users_df = tweets_selected_users[['screen_name','user_id','location','followers_count','statuses_count','daily_tweet_rate']]\n",
    "users_list_got = selected_users_df[['screen_name']]\n",
    "users_list_got.to_csv('big_csv_files/users_list_got.csv',index = False, header = False)\n",
    "\n",
    "args = ['GetOldTweets3','--usernames-from-file', 'big_csv_files/users_list_got.csv','--maxtweets','1000','--output','big_csv_files/got_tweets.csv']\n",
    "t = subprocess.Popen(args)\n",
    "t.wait()\n",
    "\n",
    "got_tweets = pd.read_csv('big_csv_files/got_tweets.csv')\n",
    "got_tweets = got_tweets.drop(columns = ['permalink','geo','mentions','hashtags','to'])\n",
    "got_tweets = got_tweets.rename(columns = {'username':'screen_name'})\n",
    "selected_users_full = got_tweets.merge(selected_users_df, on = 'screen_name')"
   ]
  },
  {
   "cell_type": "code",
   "execution_count": null,
   "metadata": {},
   "outputs": [],
   "source": [
    "## Actually do it"
   ]
  }
 ],
 "metadata": {
  "kernelspec": {
   "display_name": "Python 3",
   "language": "python",
   "name": "python3"
  },
  "language_info": {
   "codemirror_mode": {
    "name": "ipython",
    "version": 3
   },
   "file_extension": ".py",
   "mimetype": "text/x-python",
   "name": "python",
   "nbconvert_exporter": "python",
   "pygments_lexer": "ipython3",
   "version": "3.7.4"
  }
 },
 "nbformat": 4,
 "nbformat_minor": 2
}
